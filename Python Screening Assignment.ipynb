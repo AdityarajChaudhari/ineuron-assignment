{
 "cells": [
  {
   "cell_type": "markdown",
   "metadata": {},
   "source": [
    "# 1. Create a function in python to read the text file and replace specific content of the file."
   ]
  },
  {
   "cell_type": "code",
   "execution_count": 1,
   "metadata": {},
   "outputs": [
    {
     "name": "stdout",
     "output_type": "stream",
     "text": [
      "Original Text :-  This is a placement assignment\n",
      "Altered Text :-  This is a screening assignment\n"
     ]
    }
   ],
   "source": [
    "class CreateFile:\n",
    "    \n",
    "    \"\"\"\n",
    "    Class Name : CreateFile\n",
    "    Description: This class is used to create a file, write text to file and then change the word from that specific text file.\n",
    "    Written By : Adityaraj Hemant Chaudhari\n",
    "    Revisions  : None\n",
    "    Version    : 0.1\n",
    "    \"\"\"\n",
    "    \n",
    "    def __init__(self):\n",
    "        self.txt = 'This is a placement assignment'\n",
    "        self.file = 'example.txt'\n",
    "        self.mode = 'w'\n",
    "    \n",
    "    def Orginial_txt(self):\n",
    "        \n",
    "        \"\"\"\n",
    "        Method Name : Original_txt\n",
    "        Description : This method is used to create a file and add text to it.\n",
    "        Output      : .txt file\n",
    "        On_failure  : Raise Exception\n",
    "\n",
    "        Written by  : Adityaraj Hemant Chaudhari\n",
    "        Revisions   : None\n",
    "        Version     : 0.1\n",
    "        \"\"\"\n",
    "        \n",
    "        try:\n",
    "            f = open(self.file, self.mode)\n",
    "            f.write(self.txt)\n",
    "            f.close()\n",
    "        except Exception as e:\n",
    "            raise e\n",
    "    \n",
    "    def Read_Original_Txt(self):\n",
    "        \n",
    "        \"\"\"\n",
    "        Method Name : Read_Original_Txt\n",
    "        Description : This method is used to read the original text file previously created.\n",
    "        Output      : Original Text\n",
    "        On_failure  : Raise Exception\n",
    "\n",
    "        Written by  : Adityaraj Hemant Chaudhari\n",
    "        Revisions   : None\n",
    "        Version     : 0.1\n",
    "        \"\"\"\n",
    "        \n",
    "        try:\n",
    "            f = open('example.txt')\n",
    "            print('Original Text :- ',f.read())\n",
    "        except Exception as e:\n",
    "            raise e\n",
    "    \n",
    "    def Alter_Txt(self):\n",
    "        \n",
    "        \"\"\"\n",
    "        Method Name : Alter_Txt\n",
    "        Description : This method is used to open original file and alter the text and then save it.\n",
    "        Output      : .txt file\n",
    "        On_failure  : Raise Exception\n",
    "\n",
    "        Written by  : Adityaraj Hemant Chaudhari\n",
    "        Revisions   : None\n",
    "        Version     : 0.1\n",
    "        \"\"\"\n",
    "        \n",
    "        try:\n",
    "            f = open('example.txt')\n",
    "            for i in f:\n",
    "                i = (i.replace('placement','screening'))\n",
    "            f = open('example.txt','w')\n",
    "            f.write(i)\n",
    "            f.close()\n",
    "        except Exception as e:\n",
    "            raise e\n",
    "    \n",
    "    def Read_Alter_Txt(self):\n",
    "        \n",
    "        \"\"\"\n",
    "        Method Name : Read_Alter_Txt\n",
    "        Description : This method is used to read altered text from the file.\n",
    "        Output      : Altered Text\n",
    "        On_failure  : Raise Exception\n",
    "\n",
    "        Written by  : Adityaraj Hemant Chaudhari\n",
    "        Revisions   : None\n",
    "        Version     : 0.1\n",
    "        \"\"\"\n",
    "        \n",
    "        try:\n",
    "            f = open('example.txt')\n",
    "            print('Altered Text :- ',f.read())\n",
    "        except Exception as e:\n",
    "            raise e\n",
    "        \n",
    "c = CreateFile()\n",
    "c.Orginial_txt()\n",
    "c.Read_Original_Txt()\n",
    "c.Alter_Txt()\n",
    "c.Read_Alter_Txt()"
   ]
  },
  {
   "cell_type": "code",
   "execution_count": null,
   "metadata": {},
   "outputs": [],
   "source": []
  },
  {
   "cell_type": "markdown",
   "metadata": {},
   "source": [
    "# 2. Demonstrate use of abstract class, multiple inheritance and decorator in python using examples."
   ]
  },
  {
   "cell_type": "code",
   "execution_count": null,
   "metadata": {},
   "outputs": [],
   "source": []
  },
  {
   "cell_type": "markdown",
   "metadata": {},
   "source": [
    "## 1 - Abstract Class"
   ]
  },
  {
   "cell_type": "code",
   "execution_count": 2,
   "metadata": {},
   "outputs": [
    {
     "name": "stdout",
     "output_type": "stream",
     "text": [
      "Enter your name :- Adityaraj Hemant Chaudhari\n",
      "Enter your roll number :- 7\n",
      "Adityaraj Hemant Chaudhari \n",
      "7\n",
      "Enter your marks :- 45\n",
      "45\n",
      "Abstract Class Succesfully Implemented!\n"
     ]
    }
   ],
   "source": [
    "from abc import ABC, abstractmethod\n",
    "\n",
    "class Stu_Name(ABC):\n",
    "    try:\n",
    "        def stu_details(self):\n",
    "            name = input(\"Enter your name :- \")\n",
    "            roll = int(input(\"Enter your roll number :- \"))\n",
    "            print(f\"{name} \\n{roll}\")\n",
    "    except Exception as e:\n",
    "        raise e\n",
    "    try:\n",
    "        @abstractmethod\n",
    "        def stu_class(self):\n",
    "            pass\n",
    "    except Exception as e:\n",
    "        raise e\n",
    "    \n",
    "class Stu_Marks(Stu_Name):\n",
    "    try:\n",
    "        def stu_marks(self):\n",
    "            marks = int(input(\"Enter your marks :- \"))\n",
    "            print(marks)\n",
    "    except Exception as e:\n",
    "        raise e\n",
    "\n",
    "class Final_Class(Stu_Marks):\n",
    "    try:\n",
    "        def stu_class(self):\n",
    "            print(\"Abstract Class Succesfully Implemented!\")\n",
    "    except Exception as e:\n",
    "        raise e\n",
    "    \n",
    "f = Final_Class()\n",
    "f.stu_details()\n",
    "f.stu_marks()\n",
    "f.stu_class()"
   ]
  },
  {
   "cell_type": "code",
   "execution_count": null,
   "metadata": {},
   "outputs": [],
   "source": []
  },
  {
   "cell_type": "markdown",
   "metadata": {},
   "source": [
    "## 2 - Multiple Inheritance"
   ]
  },
  {
   "cell_type": "code",
   "execution_count": 3,
   "metadata": {},
   "outputs": [
    {
     "name": "stdout",
     "output_type": "stream",
     "text": [
      "Enter the First Number :- 24\n",
      "The Number from the First Class is :-  24\n",
      "Enter the Second Number :- 67\n",
      "The Number from the Second Class is :-  67\n",
      "Result after Multiple Inheritance is :-  91\n"
     ]
    }
   ],
   "source": [
    "class t1:\n",
    "    try:\n",
    "        def a(self):\n",
    "            n1 = int(input(\"Enter the First Number :- \"))\n",
    "            print(\"The Number from the First Class is :- \",n1)\n",
    "            return n1\n",
    "    except Exception as e:\n",
    "        raise e\n",
    "        \n",
    "class t2:\n",
    "    try:\n",
    "        def b(self):\n",
    "            n2 = int(input(\"Enter the Second Number :- \"))\n",
    "            print(\"The Number from the Second Class is :- \",n2)\n",
    "            return n2\n",
    "    except Exception as e:\n",
    "        raise e\n",
    "        \n",
    "class t3(t1,t2):\n",
    "    try:\n",
    "        def c(self):\n",
    "            n1 = self.a()\n",
    "            n2 = self.b()\n",
    "            res = n1 + n2\n",
    "            print(\"Result after Multiple Inheritance is :- \",res)\n",
    "    except Exception as e:\n",
    "        raise e\n",
    "    \n",
    "ob1 = t1()\n",
    "ob2 = t2()\n",
    "ob3 = t3()\n",
    "ob3.c()\n"
   ]
  },
  {
   "cell_type": "code",
   "execution_count": null,
   "metadata": {},
   "outputs": [],
   "source": []
  },
  {
   "cell_type": "markdown",
   "metadata": {},
   "source": [
    "## 3 - Decorators"
   ]
  },
  {
   "cell_type": "code",
   "execution_count": 4,
   "metadata": {},
   "outputs": [
    {
     "name": "stdout",
     "output_type": "stream",
     "text": [
      "Enter value of a :- 11\n",
      "Enter value of b :- 45\n",
      "The Result is :-  56\n",
      "Decorator implemented Successfully!\n"
     ]
    }
   ],
   "source": [
    "class Dec:\n",
    "    try:\n",
    "        def d1(a,b):\n",
    "            print(\"The Result is :- \",a+b)\n",
    "    except Exception as e:\n",
    "        raise e\n",
    "    \n",
    "    try:\n",
    "        def d2(x):\n",
    "\n",
    "            def d3(a,b):\n",
    "                return x(a,b)\n",
    "            return d3\n",
    "    except Exception as e:\n",
    "        raise e\n",
    "    \n",
    "    z = d2(d1)\n",
    "    z(int(input(\"Enter value of a :- \")),int(input(\"Enter value of b :- \")))\n",
    "    print(\"Decorator implemented Successfully!\")\n",
    "    \n",
    "d = Dec()\n",
    "\n"
   ]
  },
  {
   "cell_type": "code",
   "execution_count": null,
   "metadata": {},
   "outputs": [],
   "source": []
  }
 ],
 "metadata": {
  "kernelspec": {
   "display_name": "Python 3",
   "language": "python",
   "name": "python3"
  },
  "language_info": {
   "codemirror_mode": {
    "name": "ipython",
    "version": 3
   },
   "file_extension": ".py",
   "mimetype": "text/x-python",
   "name": "python",
   "nbconvert_exporter": "python",
   "pygments_lexer": "ipython3",
   "version": "3.8.5"
  }
 },
 "nbformat": 4,
 "nbformat_minor": 4
}
