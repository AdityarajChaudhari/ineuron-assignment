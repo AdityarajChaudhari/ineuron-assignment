{
 "cells": [
  {
   "cell_type": "code",
   "execution_count": 1,
   "metadata": {},
   "outputs": [
    {
     "name": "stdout",
     "output_type": "stream",
     "text": [
      "Enter the value of x :- 46\n",
      "x is 46\n",
      "Enter the value of y :- 72\n",
      "y is 72\n",
      "LCM is 1656.0\n"
     ]
    }
   ],
   "source": [
    "# 1. Write a Python Program to Find LCM?\n",
    "\n",
    "import math\n",
    "x = int(input(\"Enter the value of x :- \"))\n",
    "print(f\"x is {x}\")\n",
    "y = int(input(\"Enter the value of y :- \"))\n",
    "print(f\"y is {y}\")\n",
    "lcm = abs(x*y)/math.gcd(x,y)\n",
    "print(\"LCM is {}\".format(lcm))"
   ]
  },
  {
   "cell_type": "code",
   "execution_count": 2,
   "metadata": {},
   "outputs": [
    {
     "name": "stdout",
     "output_type": "stream",
     "text": [
      "Enter the value of num1 :- 1000\n",
      "num1 is 1000\n",
      "Enter the value of num2 :- 225\n",
      "num2 is 225\n",
      "HCF is :-  25\n"
     ]
    }
   ],
   "source": [
    "# 2. Write a Python Program to Find HCF?\n",
    "\n",
    "num1 = int(input(\"Enter the value of num1 :- \"))\n",
    "print(f\"num1 is {num1}\")\n",
    "num2 = int(input(\"Enter the value of num2 :- \"))\n",
    "print(f\"num2 is {num2}\")\n",
    "hcf = math.gcd(num1,num2)\n",
    "print(\"HCF is :- \",hcf)"
   ]
  },
  {
   "cell_type": "code",
   "execution_count": 3,
   "metadata": {},
   "outputs": [
    {
     "name": "stdout",
     "output_type": "stream",
     "text": [
      "Enter the number in Decimal Format :-15\n",
      "The binary value is :-  1111\n",
      "Enter the number in Octal Format :-0o12\n",
      "The Hexadecimal value is :-  a\n"
     ]
    }
   ],
   "source": [
    "# 3. Write a Python Program to Convert Decimal to Binary, Octal and Hexadecimal?\n",
    "a = int(input(\"Enter the number in Decimal Format :-\"))\n",
    "def dec_to_bin(a):\n",
    "    return int(bin(a)[2:])\n",
    "print(\"The binary value is :- \",dec_to_bin(a))\n",
    "b = int(input(\"Enter the number in Octal Format :-\"),8)\n",
    "c = (hex(b)[2:])\n",
    "print(\"The Hexadecimal value is :- \",c)"
   ]
  },
  {
   "cell_type": "code",
   "execution_count": 4,
   "metadata": {},
   "outputs": [
    {
     "name": "stdout",
     "output_type": "stream",
     "text": [
      "Enter the Character :- Y\n",
      "The Character is :-  Y\n",
      "89\n"
     ]
    }
   ],
   "source": [
    "# 4. Write a Python Program To Find ASCII value of a character?\n",
    "\n",
    "a = input(\"Enter the Character :- \")\n",
    "print(\"The Character is :- \",a)\n",
    "print(ord(a))"
   ]
  },
  {
   "cell_type": "code",
   "execution_count": 5,
   "metadata": {},
   "outputs": [
    {
     "name": "stdout",
     "output_type": "stream",
     "text": [
      "Enter the Choice :- 4\n",
      "The Choice is :-  4\n",
      "Enter the num1 :- 67\n",
      "Enter the num2 :- 13\n",
      "5.153846153846154\n"
     ]
    }
   ],
   "source": [
    "# 5. Write a Python Program to Make a Simple Calculator with 4 basic mathematical operations?\n",
    "\n",
    "ch = int(input(\"Enter the Choice :- \"))\n",
    "print(\"The Choice is :- \",ch)\n",
    "a = int(input(\"Enter the num1 :- \"))\n",
    "b = int(input(\"Enter the num2 :- \"))\n",
    "if ch == 1:\n",
    "    print(a+b)\n",
    "elif ch == 2:\n",
    "    print(a-b)\n",
    "elif ch == 3:\n",
    "    print(a*b)\n",
    "elif ch == 4:\n",
    "    print(a/b)\n",
    "else:\n",
    "    print(\"Nothing\")\n",
    "    "
   ]
  }
 ],
 "metadata": {
  "kernelspec": {
   "display_name": "Python 3",
   "language": "python",
   "name": "python3"
  },
  "language_info": {
   "codemirror_mode": {
    "name": "ipython",
    "version": 3
   },
   "file_extension": ".py",
   "mimetype": "text/x-python",
   "name": "python",
   "nbconvert_exporter": "python",
   "pygments_lexer": "ipython3",
   "version": "3.8.3"
  }
 },
 "nbformat": 4,
 "nbformat_minor": 4
}
