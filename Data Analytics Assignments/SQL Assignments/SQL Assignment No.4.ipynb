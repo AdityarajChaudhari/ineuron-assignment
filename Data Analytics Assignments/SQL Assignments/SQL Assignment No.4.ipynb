{
 "cells": [
  {
   "cell_type": "code",
   "execution_count": 1,
   "metadata": {},
   "outputs": [
    {
     "data": {
      "text/plain": [
       "[('glass',), ('glass1',), ('worker',)]"
      ]
     },
     "execution_count": 1,
     "metadata": {},
     "output_type": "execute_result"
    }
   ],
   "source": [
    "import mysql.connector as connection\n",
    "db = connection.connect(host=\"localhost\",user=\"root\",db=\"adityaraj\",passwd=\"mysql\",use_pure=True)\n",
    "cur = db.cursor()\n",
    "cur.execute(\"show tables\")\n",
    "cur.fetchall()"
   ]
  },
  {
   "cell_type": "code",
   "execution_count": null,
   "metadata": {},
   "outputs": [],
   "source": []
  },
  {
   "cell_type": "markdown",
   "metadata": {},
   "source": [
    "Q-1. Write an SQL query to print the FIRST_NAME from Worker table after replacing ‘a’\n",
    "with ‘A’."
   ]
  },
  {
   "cell_type": "code",
   "execution_count": 2,
   "metadata": {},
   "outputs": [
    {
     "name": "stdout",
     "output_type": "stream",
     "text": [
      "('John', 'John')\n",
      "('Steve', 'Steve')\n",
      "('Bruce', 'Bruce')\n",
      "('John', 'John')\n",
      "('Harry', 'HArry')\n",
      "('Ashley', 'Ashley')\n",
      "('Paul', 'PAul')\n",
      "('Rio', 'Rio')\n",
      "('Sergio', 'Sergio')\n",
      "('Justin', 'Justin')\n",
      "('Amitabh', 'AmitAbh')\n"
     ]
    }
   ],
   "source": [
    "class replace:\n",
    "    try:\n",
    "        @staticmethod\n",
    "        def change_a_to_A(tbl_name,col_name,char_to_replace,char_to_replace_with):\n",
    "            cur.execute(f\"select {col_name} from {tbl_name}\")\n",
    "            for i in cur.fetchall():\n",
    "                cur.execute(f\"select '{i[0]}' , replace('{i[0]}','{char_to_replace}','{char_to_replace_with}')\")\n",
    "                for j in cur.fetchall():\n",
    "                    print(j)\n",
    "                    \n",
    "    except Exception as e:\n",
    "        print(e)\n",
    "r = replace()\n",
    "r.change_a_to_A(\"worker\",\"first_name\",\"a\",\"A\")"
   ]
  },
  {
   "cell_type": "code",
   "execution_count": null,
   "metadata": {},
   "outputs": [],
   "source": []
  },
  {
   "cell_type": "markdown",
   "metadata": {},
   "source": [
    "Q-2. Write an SQL query to print all Worker details from the Worker table order by\n",
    "FIRST_NAME Ascending and DEPARTMENT Descending."
   ]
  },
  {
   "cell_type": "code",
   "execution_count": 3,
   "metadata": {},
   "outputs": [
    {
     "name": "stdout",
     "output_type": "stream",
     "text": [
      "(11, 'Amitabh', 'Pandey', 'Comp', 56000.0)\n",
      "(6, 'Ashley', 'Vidic', 'Comp', 78000.0)\n",
      "(3, 'Bruce', 'Banner', 'Comp', 50000.0)\n",
      "(5, 'Harry', 'Bush', 'Electrical', 85000.0)\n",
      "(1, 'John', 'Stark', 'Comp', 65000.0)\n",
      "(4, 'John', 'Wick', 'Civil', 53000.0)\n",
      "(10, 'Justin', 'Sule', 'Mechanical', 82000.0)\n",
      "(7, 'Paul', 'Walker', 'Civil', 32000.0)\n",
      "(8, 'Rio', 'Stark', 'Mechanical', 49000.0)\n",
      "(9, 'Sergio', 'Rogers', 'Comp', 63000.0)\n",
      "(2, 'Steve', 'Cole', 'Electrical', 55000.0)\n"
     ]
    }
   ],
   "source": [
    "class order:\n",
    "    try:\n",
    "        @staticmethod\n",
    "        def worker_details(tbl_name,col1_name,col2_name):\n",
    "            cur.execute(f\"select * from {tbl_name} order by {col1_name} asc , {col2_name} desc\")\n",
    "            for i in cur.fetchall():\n",
    "                print(i)\n",
    "    except Exception as e:\n",
    "        print(e)\n",
    "o = order()\n",
    "o.worker_details('worker','first_name','department')"
   ]
  },
  {
   "cell_type": "code",
   "execution_count": null,
   "metadata": {},
   "outputs": [],
   "source": []
  },
  {
   "cell_type": "markdown",
   "metadata": {},
   "source": [
    "Q-3. Write an SQL query to fetch the names of workers who earn the highest salary."
   ]
  },
  {
   "cell_type": "code",
   "execution_count": 4,
   "metadata": {},
   "outputs": [
    {
     "name": "stdout",
     "output_type": "stream",
     "text": [
      "Enter the no of workers having highest salary :-2\n",
      "Harry\n",
      "Justin\n"
     ]
    }
   ],
   "source": [
    "class max_salary:\n",
    "    try:\n",
    "        @staticmethod\n",
    "        def emp_highest_sal(tbl_name,col1_name,col2_name,no_of_workers):\n",
    "            cur.execute(f\"select {col1_name} from {tbl_name} order by {col2_name} desc limit {no_of_workers} \")\n",
    "            for i in cur.fetchall():\n",
    "                print(i[0])\n",
    "    except Exception as e:\n",
    "        print(e)\n",
    "m = max_salary()\n",
    "n = int(input(\"Enter the no of workers having highest salary :-\"))\n",
    "m.emp_highest_sal(\"worker\",\"first_name\",\"emp_salary\",n)"
   ]
  },
  {
   "cell_type": "code",
   "execution_count": null,
   "metadata": {},
   "outputs": [],
   "source": []
  }
 ],
 "metadata": {
  "kernelspec": {
   "display_name": "Python 3",
   "language": "python",
   "name": "python3"
  },
  "language_info": {
   "codemirror_mode": {
    "name": "ipython",
    "version": 3
   },
   "file_extension": ".py",
   "mimetype": "text/x-python",
   "name": "python",
   "nbconvert_exporter": "python",
   "pygments_lexer": "ipython3",
   "version": "3.8.5"
  }
 },
 "nbformat": 4,
 "nbformat_minor": 4
}
