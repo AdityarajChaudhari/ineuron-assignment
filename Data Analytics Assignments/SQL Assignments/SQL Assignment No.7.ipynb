{
 "cells": [
  {
   "cell_type": "code",
   "execution_count": 1,
   "metadata": {},
   "outputs": [
    {
     "data": {
      "text/plain": [
       "[('glass',), ('glass1',), ('worker',)]"
      ]
     },
     "execution_count": 1,
     "metadata": {},
     "output_type": "execute_result"
    }
   ],
   "source": [
    "import mysql.connector as connection\n",
    "db = connection.connect(host=\"localhost\",user=\"root\",passwd=\"mysql\",db=\"adityaraj\",use_pure=True)\n",
    "cur = db.cursor()\n",
    "cur.execute(\"show tables\")\n",
    "cur.fetchall()"
   ]
  },
  {
   "cell_type": "code",
   "execution_count": null,
   "metadata": {},
   "outputs": [],
   "source": []
  },
  {
   "cell_type": "markdown",
   "metadata": {},
   "source": [
    "Q.1 - Write an SQL query to show only odd rows from a table."
   ]
  },
  {
   "cell_type": "code",
   "execution_count": 5,
   "metadata": {},
   "outputs": [
    {
     "name": "stdout",
     "output_type": "stream",
     "text": [
      "(1, 'John', 'Stark', 'Comp', 65000.0)\n",
      "(3, 'Bruce', 'Banner', 'Comp', 50000.0)\n",
      "(5, 'Harry', 'Bush', 'Electrical', 85000.0)\n",
      "(7, 'Paul', 'Walker', 'Civil', 32000.0)\n",
      "(9, 'Sergio', 'Rogers', 'Comp', 63000.0)\n",
      "(11, 'Amitabh', 'Pandey', 'Comp', 56000.0)\n",
      "(13, 'Satish', 'Banerjee', 'Electrical', 30000.0)\n"
     ]
    }
   ],
   "source": [
    "class odd_rows:\n",
    "    try:\n",
    "        @staticmethod\n",
    "        def show_odd_rows(tbl_name,col_name):\n",
    "            cur.execute(f\"select * from {tbl_name} where {col_name} % 2 = 1\")\n",
    "            for i in cur.fetchall():\n",
    "                print(i)\n",
    "    except Exception as e:\n",
    "        print(e)\n",
    "o = odd_rows()\n",
    "o.show_odd_rows(\"worker\",\"id\")"
   ]
  },
  {
   "cell_type": "code",
   "execution_count": null,
   "metadata": {},
   "outputs": [],
   "source": []
  },
  {
   "cell_type": "markdown",
   "metadata": {},
   "source": [
    "Q.2 - Write an SQL query to clone a new table from another table."
   ]
  },
  {
   "cell_type": "code",
   "execution_count": 10,
   "metadata": {},
   "outputs": [],
   "source": [
    "class clone_tbl:\n",
    "    try:\n",
    "        @staticmethod\n",
    "        def create_table(old_tbl_name , new_tbl_name):\n",
    "            cur.execute(f\"create table {new_tbl_name} select * from {old_tbl_name}\")\n",
    "            db.commit()\n",
    "    except Exception as e:\n",
    "        print(e)\n",
    "c = clone_tbl()\n",
    "c.create_table(\"worker\",\"Employee\")"
   ]
  },
  {
   "cell_type": "code",
   "execution_count": 11,
   "metadata": {},
   "outputs": [
    {
     "name": "stdout",
     "output_type": "stream",
     "text": [
      "(1, 'John', 'Stark', 'Comp', 65000.0)\n",
      "(2, 'Steve', 'Cole', 'Electrical', 55000.0)\n",
      "(3, 'Bruce', 'Banner', 'Comp', 50000.0)\n",
      "(4, 'John', 'Wick', 'Civil', 53000.0)\n",
      "(5, 'Harry', 'Bush', 'Electrical', 85000.0)\n",
      "(6, 'Ashley', 'Vidic', 'Comp', 78000.0)\n",
      "(7, 'Paul', 'Walker', 'Civil', 32000.0)\n",
      "(8, 'Rio', 'Stark', 'Mechanical', 49000.0)\n",
      "(9, 'Sergio', 'Rogers', 'Comp', 63000.0)\n",
      "(10, 'Justin', 'Sule', 'Mechanical', 82000.0)\n",
      "(11, 'Amitabh', 'Pandey', 'Comp', 56000.0)\n",
      "(12, 'Mikhail', 'Tal', 'Civil', 60000.0)\n",
      "(13, 'Satish', 'Banerjee', 'Electrical', 30000.0)\n",
      "(14, 'Vipul', 'Dhawan', 'Civil', 62000.0)\n"
     ]
    }
   ],
   "source": [
    "class show_cloned_tbl:\n",
    "    try:\n",
    "        @staticmethod\n",
    "        def new_coloned_tbl(tbl_name):\n",
    "            cur.execute(f\"select * from {tbl_name}\")\n",
    "            for i in cur.fetchall():\n",
    "                print(i)\n",
    "    except Exception as e:\n",
    "        print(e)\n",
    "s = show_cloned_tbl()\n",
    "s.new_coloned_tbl(\"Employee\")   #Employee is the new cloned table"
   ]
  }
 ],
 "metadata": {
  "kernelspec": {
   "display_name": "Python 3",
   "language": "python",
   "name": "python3"
  },
  "language_info": {
   "codemirror_mode": {
    "name": "ipython",
    "version": 3
   },
   "file_extension": ".py",
   "mimetype": "text/x-python",
   "name": "python",
   "nbconvert_exporter": "python",
   "pygments_lexer": "ipython3",
   "version": "3.8.5"
  }
 },
 "nbformat": 4,
 "nbformat_minor": 4
}
