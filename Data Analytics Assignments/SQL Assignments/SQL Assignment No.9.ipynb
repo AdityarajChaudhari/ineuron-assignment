{
 "cells": [
  {
   "cell_type": "code",
   "execution_count": 1,
   "metadata": {},
   "outputs": [
    {
     "data": {
      "text/plain": [
       "[('employee',), ('glass',), ('glass1',), ('worker',)]"
      ]
     },
     "execution_count": 1,
     "metadata": {},
     "output_type": "execute_result"
    }
   ],
   "source": [
    "import mysql.connector as connection\n",
    "db = connection.connect(host=\"localhost\",user=\"root\",passwd=\"mysql\",db=\"adityaraj\",use_pure=True)\n",
    "cur = db.cursor()\n",
    "cur.execute(\"show tables\")\n",
    "cur.fetchall()"
   ]
  },
  {
   "cell_type": "code",
   "execution_count": null,
   "metadata": {},
   "outputs": [],
   "source": []
  },
  {
   "cell_type": "markdown",
   "metadata": {},
   "source": [
    "Q.1 - Write an SQL query to show the top n (say 10) records of a table."
   ]
  },
  {
   "cell_type": "code",
   "execution_count": 2,
   "metadata": {},
   "outputs": [
    {
     "name": "stdout",
     "output_type": "stream",
     "text": [
      "(1, 'John', 'Stark', 'Comp', 65000.0)\n",
      "(2, 'Steve', 'Cole', 'Electrical', 55000.0)\n",
      "(3, 'Bruce', 'Banner', 'Comp', 50000.0)\n",
      "(4, 'John', 'Wick', 'Civil', 53000.0)\n",
      "(5, 'Harry', 'Bush', 'Electrical', 85000.0)\n",
      "(6, 'Ashley', 'Vidic', 'Comp', 78000.0)\n",
      "(7, 'Paul', 'Walker', 'Civil', 32000.0)\n",
      "(8, 'Rio', 'Stark', 'Mechanical', 49000.0)\n",
      "(9, 'Sergio', 'Rogers', 'Comp', 63000.0)\n",
      "(10, 'Justin', 'Sule', 'Mechanical', 82000.0)\n"
     ]
    }
   ],
   "source": [
    "class top_n_records:\n",
    "    try:\n",
    "        @staticmethod\n",
    "        def show_top_n_rec(tbl_name , n):\n",
    "            cur.execute(f\"select * from {tbl_name} limit {n}\")\n",
    "            for i in cur.fetchall():\n",
    "                print(i)\n",
    "    except Exception as e:\n",
    "        print(e)\n",
    "t = top_n_records()\n",
    "t.show_top_n_rec(\"worker\",10)"
   ]
  },
  {
   "cell_type": "code",
   "execution_count": null,
   "metadata": {},
   "outputs": [],
   "source": []
  },
  {
   "cell_type": "markdown",
   "metadata": {},
   "source": [
    "Q.2 - Write an SQL query to determine the nth (say n=5) highest salary from a table."
   ]
  },
  {
   "cell_type": "code",
   "execution_count": 3,
   "metadata": {},
   "outputs": [
    {
     "name": "stdout",
     "output_type": "stream",
     "text": [
      "63000.0\n"
     ]
    }
   ],
   "source": [
    "class nth_highest_sal:\n",
    "    try:\n",
    "        @staticmethod\n",
    "        def show_nth_salary(tbl_name,col_name,nth_value):\n",
    "            cur.execute(f\"select {col_name} from (select {col_name} from {tbl_name} order by {col_name} desc limit {nth_value} ) sal order by {col_name} asc limit 1\")\n",
    "            for i in cur.fetchall():\n",
    "                print(i[0])\n",
    "    except Exception as e:\n",
    "        print(e)\n",
    "n_sal = nth_highest_sal()\n",
    "n_sal.show_nth_salary(\"worker\",\"emp_salary\",5)"
   ]
  },
  {
   "cell_type": "code",
   "execution_count": null,
   "metadata": {},
   "outputs": [],
   "source": []
  }
 ],
 "metadata": {
  "kernelspec": {
   "display_name": "Python 3",
   "language": "python",
   "name": "python3"
  },
  "language_info": {
   "codemirror_mode": {
    "name": "ipython",
    "version": 3
   },
   "file_extension": ".py",
   "mimetype": "text/x-python",
   "name": "python",
   "nbconvert_exporter": "python",
   "pygments_lexer": "ipython3",
   "version": "3.8.5"
  }
 },
 "nbformat": 4,
 "nbformat_minor": 4
}
