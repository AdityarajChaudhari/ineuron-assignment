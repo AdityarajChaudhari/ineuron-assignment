{
 "cells": [
  {
   "cell_type": "code",
   "execution_count": 1,
   "metadata": {},
   "outputs": [
    {
     "data": {
      "text/plain": [
       "[('employee',), ('glass',), ('glass1',), ('worker',)]"
      ]
     },
     "execution_count": 1,
     "metadata": {},
     "output_type": "execute_result"
    }
   ],
   "source": [
    "import mysql.connector as connection\n",
    "db = connection.connect(host=\"localhost\",user=\"root\",passwd=\"mysql\",db=\"adityaraj\",use_pure=True)\n",
    "cur = db.cursor()\n",
    "cur.execute(\"show tables\")\n",
    "cur.fetchall()"
   ]
  },
  {
   "cell_type": "code",
   "execution_count": null,
   "metadata": {},
   "outputs": [],
   "source": []
  },
  {
   "cell_type": "markdown",
   "metadata": {},
   "source": [
    "Q.1 - Write an SQL query to determine the 5th highest salary without using TOP or limit\n",
    "method."
   ]
  },
  {
   "cell_type": "code",
   "execution_count": 2,
   "metadata": {},
   "outputs": [
    {
     "name": "stdout",
     "output_type": "stream",
     "text": [
      "63000.0\n"
     ]
    }
   ],
   "source": [
    "class highest_sal_5:\n",
    "    try:\n",
    "        @staticmethod\n",
    "        def fifth_highest_sal(tbl_name,col_name):\n",
    "            cur.execute(f\"select {col_name} from (select {col_name} , dense_rank() over(order by {col_name} desc)sal from {tbl_name})emp_sal where sal=5\")\n",
    "            for i in cur.fetchall():\n",
    "                print(i[0])\n",
    "    except Exception as e:\n",
    "        print(e)\n",
    "h = highest_sal_5()\n",
    "h.fifth_highest_sal(\"worker\",\"emp_salary\")"
   ]
  },
  {
   "cell_type": "code",
   "execution_count": null,
   "metadata": {},
   "outputs": [],
   "source": []
  },
  {
   "cell_type": "markdown",
   "metadata": {},
   "source": [
    "Q.2 - Write an SQL query to fetch the list of employees with the same salary."
   ]
  },
  {
   "cell_type": "code",
   "execution_count": 3,
   "metadata": {},
   "outputs": [
    {
     "name": "stdout",
     "output_type": "stream",
     "text": [
      "(11, 'Amitabh', 'Pandey', 'Comp', 56000.0)\n",
      "(13, 'Satish', 'Banerjee', 'Electrical', 30000.0)\n",
      "(15, 'Nicolas', 'Benjamin', 'Electrical', 56000.0)\n",
      "(16, 'Steven', 'Giroud', 'Mechanical', 30000.0)\n"
     ]
    }
   ],
   "source": [
    "class same_sal:\n",
    "    try:\n",
    "        @staticmethod\n",
    "        def emp_with_same_sal(tbl_name,col_name):\n",
    "            cur.execute(f\"select * from {tbl_name} where {col_name} in (select {col_name} from {tbl_name} group by {col_name} having count({col_name})>1) \")\n",
    "            for i in cur.fetchall():\n",
    "                print(i)\n",
    "    except Exception as e:\n",
    "        print(e)\n",
    "s = same_sal()\n",
    "s.emp_with_same_sal(\"worker\",\"emp_salary\")"
   ]
  },
  {
   "cell_type": "code",
   "execution_count": null,
   "metadata": {},
   "outputs": [],
   "source": []
  }
 ],
 "metadata": {
  "kernelspec": {
   "display_name": "Python 3",
   "language": "python",
   "name": "python3"
  },
  "language_info": {
   "codemirror_mode": {
    "name": "ipython",
    "version": 3
   },
   "file_extension": ".py",
   "mimetype": "text/x-python",
   "name": "python",
   "nbconvert_exporter": "python",
   "pygments_lexer": "ipython3",
   "version": "3.8.5"
  }
 },
 "nbformat": 4,
 "nbformat_minor": 4
}
