{
 "cells": [
  {
   "cell_type": "code",
   "execution_count": 1,
   "metadata": {},
   "outputs": [
    {
     "data": {
      "text/plain": [
       "[('glass',), ('glass1',)]"
      ]
     },
     "execution_count": 1,
     "metadata": {},
     "output_type": "execute_result"
    }
   ],
   "source": [
    "import mysql.connector as connection\n",
    "con = connection.connect(host=\"localhost\",user=\"root\",passwd=\"mysql\",use_pure=True,database=\"adityaraj\")\n",
    "cur = con.cursor()\n",
    "cur.execute(\"show tables\")\n",
    "cur.fetchall()"
   ]
  },
  {
   "cell_type": "code",
   "execution_count": 2,
   "metadata": {},
   "outputs": [],
   "source": [
    "class table:\n",
    "    @staticmethod\n",
    "    def create(tabl):\n",
    "        cur.execute(f\"create table {tabl}(id int , FIRST_NAME varchar(30),LAST_NAME varchar(30),DEPARTMENT varchar(40))\")\n",
    "        con.commit()\n",
    "t = table()\n",
    "t.create(\"Worker\")\n"
   ]
  },
  {
   "cell_type": "code",
   "execution_count": 3,
   "metadata": {},
   "outputs": [
    {
     "data": {
      "text/plain": [
       "[('glass',), ('glass1',), ('worker',)]"
      ]
     },
     "execution_count": 3,
     "metadata": {},
     "output_type": "execute_result"
    }
   ],
   "source": [
    "cur.execute(\"show tables\")\n",
    "cur.fetchall()"
   ]
  },
  {
   "cell_type": "code",
   "execution_count": 4,
   "metadata": {},
   "outputs": [],
   "source": [
    "class insert:\n",
    "    try:\n",
    "        @staticmethod\n",
    "        def insert_values(table_name,id1,f,l,d): \n",
    "            cur.execute(f\"insert into {table_name} values{(id1,f,l,d)}\")\n",
    "            con.commit()\n",
    "    except Exception as e:\n",
    "        print(e)\n",
    "i = insert()\n",
    "i.insert_values(\"Worker\",1,\"John\",\"Stark\",\"Comp\")\n",
    "i.insert_values(\"Worker\",2,'Steve','Cole','Electrical')\n",
    "i.insert_values(\"Worker\",3,'Bruce','Banner','Comp')\n",
    "i.insert_values(\"Worker\",4,'John','Wick','Civil')\n",
    "i.insert_values(\"Worker\",5,'Harry','Bush','Electrical')\n",
    "i.insert_values(\"Worker\",6,'Ashley','Vidic','Comp')\n",
    "i.insert_values(\"Worker\",7,'Paul','Walker','Civil')\n",
    "i.insert_values(\"Worker\",8,'Rio','Stark','Mechanical')\n",
    "i.insert_values(\"Worker\",9,'Sergio','Rogers','Comp')\n",
    "i.insert_values(\"Worker\",10,'Justin','Sule','Mechanical')\n"
   ]
  },
  {
   "cell_type": "code",
   "execution_count": 5,
   "metadata": {},
   "outputs": [
    {
     "data": {
      "text/plain": [
       "[(1, 'John', 'Stark', 'Comp'),\n",
       " (2, 'Steve', 'Cole', 'Electrical'),\n",
       " (3, 'Bruce', 'Banner', 'Comp'),\n",
       " (4, 'John', 'Wick', 'Civil'),\n",
       " (5, 'Harry', 'Bush', 'Electrical'),\n",
       " (6, 'Ashley', 'Vidic', 'Comp'),\n",
       " (7, 'Paul', 'Walker', 'Civil'),\n",
       " (8, 'Rio', 'Stark', 'Mechanical'),\n",
       " (9, 'Sergio', 'Rogers', 'Comp'),\n",
       " (10, 'Justin', 'Sule', 'Mechanical')]"
      ]
     },
     "execution_count": 5,
     "metadata": {},
     "output_type": "execute_result"
    }
   ],
   "source": [
    "cur.execute(\"select * from Worker\")\n",
    "cur.fetchall()"
   ]
  },
  {
   "cell_type": "code",
   "execution_count": null,
   "metadata": {},
   "outputs": [],
   "source": []
  },
  {
   "cell_type": "markdown",
   "metadata": {},
   "source": [
    "Q-1. Write an SQL query to fetch “FIRST_NAME” from Worker table using the alias\n",
    "name as &lt;WORKER_NAME&gt;."
   ]
  },
  {
   "cell_type": "code",
   "execution_count": 6,
   "metadata": {},
   "outputs": [
    {
     "name": "stdout",
     "output_type": "stream",
     "text": [
      "WORKER_NAME\n",
      "John\n",
      "Steve\n",
      "Bruce\n",
      "John\n",
      "Harry\n",
      "Ashley\n",
      "Paul\n",
      "Rio\n",
      "Sergio\n",
      "Justin\n"
     ]
    }
   ],
   "source": [
    "\n",
    "class fetch:\n",
    "    try:\n",
    "        @staticmethod\n",
    "        def fetch_table(table_name,col_name,alias_name):\n",
    "            cur.execute(f\"select {col_name} as {alias_name} from {table_name} \")\n",
    "            for i in cur.description:\n",
    "                print(i[0])\n",
    "            for j in cur.fetchall():\n",
    "                print(j[0])\n",
    "    except Exception as e:\n",
    "        print(e)\n",
    "f = fetch()\n",
    "f.fetch_table(\"Worker\",\"FIRST_NAME\",\"WORKER_NAME\")\n",
    "        "
   ]
  },
  {
   "cell_type": "code",
   "execution_count": null,
   "metadata": {},
   "outputs": [],
   "source": []
  },
  {
   "cell_type": "markdown",
   "metadata": {},
   "source": [
    "Q-2. Write an SQL query to fetch unique values of DEPARTMENT from Worker table."
   ]
  },
  {
   "cell_type": "code",
   "execution_count": 7,
   "metadata": {},
   "outputs": [
    {
     "name": "stdout",
     "output_type": "stream",
     "text": [
      "Comp\n",
      "Electrical\n",
      "Civil\n",
      "Mechanical\n"
     ]
    }
   ],
   "source": [
    "class unique:\n",
    "    try:\n",
    "        @staticmethod \n",
    "        def fetch_unique(col_name,table_name):\n",
    "            cur.execute(f\"select distinct({col_name}) from {table_name}\")\n",
    "            for i in cur.fetchall():\n",
    "                print(i[0])\n",
    "    except Exception as e:\n",
    "        print(e)\n",
    "u = unique()\n",
    "u.fetch_unique('DEPARTMENT','Worker')"
   ]
  },
  {
   "cell_type": "code",
   "execution_count": null,
   "metadata": {},
   "outputs": [],
   "source": []
  },
  {
   "cell_type": "markdown",
   "metadata": {},
   "source": [
    "Q-3. Write an SQL query to show the last 5 record from a table."
   ]
  },
  {
   "cell_type": "code",
   "execution_count": 8,
   "metadata": {},
   "outputs": [
    {
     "name": "stdout",
     "output_type": "stream",
     "text": [
      "(6, 'Ashley', 'Vidic', 'Comp')\n",
      "(7, 'Paul', 'Walker', 'Civil')\n",
      "(8, 'Rio', 'Stark', 'Mechanical')\n",
      "(9, 'Sergio', 'Rogers', 'Comp')\n",
      "(10, 'Justin', 'Sule', 'Mechanical')\n"
     ]
    }
   ],
   "source": [
    "class last_5:\n",
    "    try:\n",
    "        @staticmethod\n",
    "        def fetch_last_5(col_name,table_name):\n",
    "            cur.execute(f\"(select * from {table_name} order by {col_name} desc limit 5)order by id asc  \")\n",
    "            \n",
    "            for i in cur.fetchall():\n",
    "                print(i)\n",
    "    except Exception as e:\n",
    "        print(e)\n",
    "l = last_5()\n",
    "l.fetch_last_5(\"id\",\"Worker\")"
   ]
  },
  {
   "cell_type": "code",
   "execution_count": null,
   "metadata": {},
   "outputs": [],
   "source": []
  },
  {
   "cell_type": "code",
   "execution_count": null,
   "metadata": {},
   "outputs": [],
   "source": []
  }
 ],
 "metadata": {
  "kernelspec": {
   "display_name": "Python 3",
   "language": "python",
   "name": "python3"
  },
  "language_info": {
   "codemirror_mode": {
    "name": "ipython",
    "version": 3
   },
   "file_extension": ".py",
   "mimetype": "text/x-python",
   "name": "python",
   "nbconvert_exporter": "python",
   "pygments_lexer": "ipython3",
   "version": "3.8.5"
  }
 },
 "nbformat": 4,
 "nbformat_minor": 4
}
