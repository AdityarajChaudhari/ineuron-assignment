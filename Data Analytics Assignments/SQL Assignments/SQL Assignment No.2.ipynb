{
 "cells": [
  {
   "cell_type": "code",
   "execution_count": 1,
   "metadata": {},
   "outputs": [
    {
     "data": {
      "text/plain": [
       "[('glass',), ('glass1',), ('worker',)]"
      ]
     },
     "execution_count": 1,
     "metadata": {},
     "output_type": "execute_result"
    }
   ],
   "source": [
    "import mysql.connector as connection\n",
    "db = connection.connect(host = \"localhost\",db=\"adityaraj\",user=\"root\",passwd=\"mysql\",use_pure=True)\n",
    "cur = db.cursor()\n",
    "cur.execute(\"show tables\")\n",
    "cur.fetchall()"
   ]
  },
  {
   "cell_type": "code",
   "execution_count": null,
   "metadata": {},
   "outputs": [],
   "source": []
  },
  {
   "cell_type": "markdown",
   "metadata": {},
   "source": [
    "Q-1. Write an SQL query to print the first three characters of  FIRST_NAME from Worker\n",
    "table."
   ]
  },
  {
   "cell_type": "code",
   "execution_count": 2,
   "metadata": {},
   "outputs": [
    {
     "name": "stdout",
     "output_type": "stream",
     "text": [
      "Joh\n",
      "Ste\n",
      "Bru\n",
      "Joh\n",
      "Har\n",
      "Ash\n",
      "Pau\n",
      "Rio\n",
      "Ser\n",
      "Jus\n",
      "Ami\n"
     ]
    }
   ],
   "source": [
    "class first_3:\n",
    "    try:\n",
    "        @staticmethod\n",
    "        def extract_first3(tbl_name,col_name,start,length):\n",
    "            cur.execute(f\"select substring({col_name},{start},{length})  from {tbl_name}\")\n",
    "            for i in cur.fetchall():\n",
    "                print(i[0])\n",
    "    except Exception as e:\n",
    "        print(e)\n",
    "f = first_3()\n",
    "f.extract_first3(\"worker\",\"FIRST_NAME\",1,3)        "
   ]
  },
  {
   "cell_type": "code",
   "execution_count": null,
   "metadata": {},
   "outputs": [],
   "source": []
  },
  {
   "cell_type": "markdown",
   "metadata": {},
   "source": [
    "Q-2. Write an SQL query to find the position of the alphabet (‘a’) in the first name\n",
    "column ‘Amitabh’ from Worker table."
   ]
  },
  {
   "cell_type": "code",
   "execution_count": 3,
   "metadata": {},
   "outputs": [
    {
     "name": "stdout",
     "output_type": "stream",
     "text": [
      "The Position of a in Amitabh is :-  5\n"
     ]
    }
   ],
   "source": [
    "class find_a:\n",
    "    try:\n",
    "        @staticmethod\n",
    "        def find_pos_a(tbl_name,col_name,value_to_find,value_to_find_from):\n",
    "            cur.execute(f\"select position(binary '{value_to_find}' in {col_name}) from {tbl_name} where {col_name}='{value_to_find_from}'\")\n",
    "            for i in cur.fetchall():\n",
    "                print(f\"The Position of {value_to_find} in {value_to_find_from} is :- \",i[0])\n",
    "    except Exception as e:\n",
    "        print(e)\n",
    "        \n",
    "f = find_a()\n",
    "f.find_pos_a(\"worker\",\"FIRST_NAME\",\"a\",\"Amitabh\")"
   ]
  },
  {
   "cell_type": "code",
   "execution_count": null,
   "metadata": {},
   "outputs": [],
   "source": []
  },
  {
   "cell_type": "markdown",
   "metadata": {},
   "source": [
    "Q-3. Write an SQL query to print the name of employees having the highest salary in each\n",
    "department."
   ]
  },
  {
   "cell_type": "code",
   "execution_count": 4,
   "metadata": {},
   "outputs": [
    {
     "name": "stdout",
     "output_type": "stream",
     "text": [
      "('John', 53000.0, 'Civil')\n",
      "('Harry', 85000.0, 'Electrical')\n",
      "('Ashley', 78000.0, 'Comp')\n",
      "('Justin', 82000.0, 'Mechanical')\n"
     ]
    }
   ],
   "source": [
    "class emp:\n",
    "    try:\n",
    "        @staticmethod\n",
    "        def emp_highest_sal(tbl_name,col1_name,col2_name,col3_name):\n",
    "            cur.execute(f\"select {col1_name},{col2_name},{col3_name} from {tbl_name} where ({col2_name} , {col3_name} ) in (select max({col2_name}),{col3_name} from worker group by {col3_name} )\")\n",
    "            for i in cur.fetchall():\n",
    "                print(i)\n",
    "    except Exception as e:\n",
    "        print(e)\n",
    "e = emp()\n",
    "e.emp_highest_sal('worker','first_name','emp_salary','department')"
   ]
  },
  {
   "cell_type": "code",
   "execution_count": null,
   "metadata": {},
   "outputs": [],
   "source": []
  }
 ],
 "metadata": {
  "kernelspec": {
   "display_name": "Python 3",
   "language": "python",
   "name": "python3"
  },
  "language_info": {
   "codemirror_mode": {
    "name": "ipython",
    "version": 3
   },
   "file_extension": ".py",
   "mimetype": "text/x-python",
   "name": "python",
   "nbconvert_exporter": "python",
   "pygments_lexer": "ipython3",
   "version": "3.8.5"
  }
 },
 "nbformat": 4,
 "nbformat_minor": 4
}
