{
 "cells": [
  {
   "cell_type": "code",
   "execution_count": 1,
   "metadata": {},
   "outputs": [],
   "source": [
    "import mysql.connector as connection\n",
    "db = connection.connect(host=\"localhost\",user=\"root\",db=\"adityaraj\",passwd=\"mysql\",use_pure=True)\n",
    "cur = db.cursor()\n",
    "cur.execute(\"show tables\")\n",
    "cur.fetchall()"
   ]
  },
  {
   "cell_type": "code",
   "execution_count": null,
   "metadata": {},
   "outputs": [],
   "source": []
  },
  {
   "cell_type": "markdown",
   "metadata": {},
   "source": [
    "Q-1. Write an SQL query to print the FIRST_NAME from Worker table after removing\n",
    "white spaces from the right side."
   ]
  },
  {
   "cell_type": "code",
   "execution_count": 2,
   "metadata": {},
   "outputs": [],
   "source": [
    "class rem_whitespaces:\n",
    "    try:\n",
    "        @staticmethod\n",
    "        def trim_from_right(tbl_name,col_name):\n",
    "            cur.execute(f\"select rtrim({col_name}) from {tbl_name}\")\n",
    "            for i in cur.fetchall():\n",
    "                print(i)\n",
    "    except Exception as e:\n",
    "        print(e)\n",
    "r = rem_whitespaces()\n",
    "r.trim_from_right('worker','first_name')"
   ]
  },
  {
   "cell_type": "code",
   "execution_count": null,
   "metadata": {},
   "outputs": [],
   "source": []
  },
  {
   "cell_type": "markdown",
   "metadata": {},
   "source": [
    "Q-2. Write an SQL query that fetches the unique values of DEPARTMENT from Worker\n",
    "table and prints its length."
   ]
  },
  {
   "cell_type": "code",
   "execution_count": 3,
   "metadata": {},
   "outputs": [],
   "source": [
    "class unique_vals:\n",
    "    try:\n",
    "        @staticmethod\n",
    "        def dept_uniq(tbl_name,col_name):\n",
    "            cur.execute(f\"(select distinct({col_name}) , length({col_name}) from {tbl_name}) \")\n",
    "            for i in cur.fetchall():\n",
    "                print(i)\n",
    "    except Exception as e:\n",
    "        print(e)\n",
    "u = unique_vals()\n",
    "u.dept_uniq(\"worker\",\"department\")"
   ]
  },
  {
   "cell_type": "code",
   "execution_count": null,
   "metadata": {},
   "outputs": [],
   "source": []
  },
  {
   "cell_type": "markdown",
   "metadata": {},
   "source": [
    "Q-3. Write an SQL query to fetch nth max salaries from a table."
   ]
  },
  {
   "cell_type": "code",
   "execution_count": 4,
   "metadata": {},
   "outputs": [
    {
     "name": "stdout",
     "output_type": "stream",
     "text": [
      "Enter the number :- 3\n",
      "85000.0\n",
      "82000.0\n",
      "78000.0\n"
     ]
    }
   ],
   "source": [
    "class max_sal:\n",
    "    try:\n",
    "        @staticmethod\n",
    "        def n_max_sal(tbl_name,col_name,n):\n",
    "            cur.execute(f\"select {col_name} from {tbl_name} order by {col_name} desc limit {n}\")\n",
    "            for i in cur.fetchall():\n",
    "                print(i[0])\n",
    "    except Exception as e:\n",
    "        print(e)\n",
    "m = max_sal()\n",
    "no = int(input(\"Enter the number :- \"))\n",
    "m.n_max_sal(\"worker\",\"emp_salary\",no)"
   ]
  },
  {
   "cell_type": "code",
   "execution_count": null,
   "metadata": {},
   "outputs": [],
   "source": []
  }
 ],
 "metadata": {
  "kernelspec": {
   "display_name": "Python 3",
   "language": "python",
   "name": "python3"
  },
  "language_info": {
   "codemirror_mode": {
    "name": "ipython",
    "version": 3
   },
   "file_extension": ".py",
   "mimetype": "text/x-python",
   "name": "python",
   "nbconvert_exporter": "python",
   "pygments_lexer": "ipython3",
   "version": "3.8.5"
  }
 },
 "nbformat": 4,
 "nbformat_minor": 4
}
