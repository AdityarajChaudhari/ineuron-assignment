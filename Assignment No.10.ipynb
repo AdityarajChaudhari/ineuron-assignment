{
 "cells": [
  {
   "cell_type": "code",
   "execution_count": 66,
   "metadata": {},
   "outputs": [
    {
     "name": "stdout",
     "output_type": "stream",
     "text": [
      "List -->\n",
      "[1, 4, 7, 10, 13, 16, 19]\n",
      "Sum of elements in the list -->\n",
      "70\n"
     ]
    }
   ],
   "source": [
    "# 1. Write a Python program to find sum of elements in list?\n",
    "\n",
    "l1 = [i  for i in range(1,20,3)]\n",
    "print(\"List -->\")\n",
    "print(l1)\n",
    "print(\"Sum of elements in the list -->\")\n",
    "print(sum(l1))"
   ]
  },
  {
   "cell_type": "code",
   "execution_count": 67,
   "metadata": {},
   "outputs": [
    {
     "name": "stdout",
     "output_type": "stream",
     "text": [
      "List -->\n",
      "[2, 4, 6, 8]\n",
      "Multiplication of elements in the list -->\n",
      "384\n"
     ]
    }
   ],
   "source": [
    "# 2.  Write a Python program to Multiply all numbers in the list?\n",
    "\n",
    "l2 = [i for i in range(2,10,2)]\n",
    "print(\"List -->\")\n",
    "print(l2)\n",
    "mul = 1\n",
    "for i in (l2):\n",
    "    mul *= i\n",
    "print(\"Multiplication of elements in the list -->\")\n",
    "print(mul)"
   ]
  },
  {
   "cell_type": "code",
   "execution_count": 68,
   "metadata": {},
   "outputs": [
    {
     "name": "stdout",
     "output_type": "stream",
     "text": [
      "List --> \n",
      "[9, 5, 90, 19, 18, 80, 93, 26, 73, 97, 22, 96, 40, 83, 87, 68, 98, 25, 43, 44, 51, 38, 16, 92, 69]\n",
      "List in Sorted order -->\n",
      "[5, 9, 16, 18, 19, 22, 25, 26, 38, 40, 43, 44, 51, 68, 69, 73, 80, 83, 87, 90, 92, 93, 96, 97, 98]\n",
      "Smallest number in the list is :- \n",
      "5\n"
     ]
    }
   ],
   "source": [
    "# 3. Write a Python program to find smallest number in a list?\n",
    "\n",
    "import random\n",
    "l3 = [i for i in (random.sample(range(1,100), 25))]\n",
    "print(\"List --> \")\n",
    "print(l3)\n",
    "print(\"List in Sorted order -->\")\n",
    "l3.sort()\n",
    "print(l3)\n",
    "print(\"Smallest number in the list is :- \")\n",
    "print(l3[0])"
   ]
  },
  {
   "cell_type": "code",
   "execution_count": 69,
   "metadata": {},
   "outputs": [
    {
     "name": "stdout",
     "output_type": "stream",
     "text": [
      "List --> \n",
      "[97, 47, 54, 85, 23, 81, 67, 46, 1, 94, 20, 77, 39, 98, 71, 22, 42, 43, 29, 30, 26, 75, 34, 61, 62]\n",
      "List in Sorted order -->\n",
      "[1, 20, 22, 23, 26, 29, 30, 34, 39, 42, 43, 46, 47, 54, 61, 62, 67, 71, 75, 77, 81, 85, 94, 97, 98]\n",
      "Largest number in the list is :- \n",
      "98\n"
     ]
    }
   ],
   "source": [
    "#4. Write a Python program to find largest number in a list?\n",
    "\n",
    "import random\n",
    "l4 = [i for i in (random.sample(range(1,100), 25))]\n",
    "print(\"List --> \")\n",
    "print(l4)\n",
    "print(\"List in Sorted order -->\")\n",
    "l4.sort()\n",
    "print(l4)\n",
    "print(\"Largest number in the list is :- \")\n",
    "print(l4[-1])"
   ]
  },
  {
   "cell_type": "code",
   "execution_count": 70,
   "metadata": {},
   "outputs": [
    {
     "name": "stdout",
     "output_type": "stream",
     "text": [
      "List --> \n",
      "[85, 5, 79, 98, 7, 91, 52, 56, 93, 44, 2, 71, 97, 89, 61, 32, 39, 67, 55, 66, 72, 70, 46, 19, 64]\n",
      "List in Sorted order -->\n",
      "[2, 5, 7, 19, 32, 39, 44, 46, 52, 55, 56, 61, 64, 66, 67, 70, 71, 72, 79, 85, 89, 91, 93, 97, 98]\n",
      "Second Largest number in the list is :- \n",
      "97\n"
     ]
    }
   ],
   "source": [
    "#5. Write a Python program to find second largest number in a list?\n",
    "\n",
    "import random\n",
    "l5 = [i for i in (random.sample(range(1,100), 25))]\n",
    "print(\"List --> \")\n",
    "print(l5)\n",
    "print(\"List in Sorted order -->\")\n",
    "l5.sort()\n",
    "print(l5)\n",
    "print(\"Second Largest number in the list is :- \")\n",
    "print(l5[-2])"
   ]
  },
  {
   "cell_type": "code",
   "execution_count": 71,
   "metadata": {},
   "outputs": [
    {
     "name": "stdout",
     "output_type": "stream",
     "text": [
      "List -->\n",
      "[10, 46, 40, 19, 28, 11, 25, 35, 97, 37, 76, 73, 2, 92, 12, 42, 51, 95, 15, 91, 56, 71, 29, 58, 21]\n",
      "Enter the number of N largest elements :- 3\n",
      "The number of N largest element is :- 3\n",
      "[2, 10, 11, 12, 15, 19, 21, 25, 28, 29, 35, 37, 40, 42, 46, 51, 56, 58, 71, 73, 76, 91, 92, 95, 97]\n",
      "N largest element in list are :-\n",
      "[92, 95, 97]\n"
     ]
    }
   ],
   "source": [
    "# Write a Python program to find N largest elements from a list?\n",
    "\n",
    "import random\n",
    "l6 = [i for i in random.sample(range(1,100),25)]\n",
    "print('List -->')\n",
    "print(l6)\n",
    "n = int(input(\"Enter the number of N largest elements :- \"))\n",
    "print(f\"The number of N largest element is :- {n}\")\n",
    "l6.sort()\n",
    "print(l6)\n",
    "print(\"N largest element in list are :-\")\n",
    "print(l6[-n:])"
   ]
  },
  {
   "cell_type": "code",
   "execution_count": 72,
   "metadata": {},
   "outputs": [
    {
     "name": "stdout",
     "output_type": "stream",
     "text": [
      "List --> \n",
      "[48, 62, 21, 4, 66, 17, 10, 85, 56, 39, 82, 8, 28, 92, 61, 45, 2, 53, 14, 73]\n",
      "Even numbers from the list --> \n",
      "[48, 62, 4, 66, 10, 56, 82, 8, 28, 92, 2, 14]\n"
     ]
    }
   ],
   "source": [
    "#7. Write a Python program to print even numbers in a list?\n",
    "\n",
    "import random\n",
    "l7 = [i for i in random.sample(range(1,100), 20)]\n",
    "print(\"List --> \")\n",
    "print(l7)\n",
    "print(\"Even numbers from the list --> \")\n",
    "even_no = []\n",
    "for i in l7:\n",
    "    if i%2==0 :\n",
    "        even_no.append(i)\n",
    "print(even_no)"
   ]
  },
  {
   "cell_type": "code",
   "execution_count": 73,
   "metadata": {},
   "outputs": [
    {
     "name": "stdout",
     "output_type": "stream",
     "text": [
      "List --> \n",
      "[3, 12, 91, 90, 85, 13, 45, 60, 95, 63, 59, 56, 51, 81, 70, 29, 73, 28, 82, 31]\n",
      "Odd numbers from the list --> \n",
      "[3, 91, 85, 13, 45, 95, 63, 59, 51, 81, 29, 73, 31]\n"
     ]
    }
   ],
   "source": [
    "#8. Write a Python program to print odd numbers in a List?\n",
    "\n",
    "import random\n",
    "l8 = [i for i in random.sample(range(1,100), 20)]\n",
    "print(\"List --> \")\n",
    "print(l8)\n",
    "print(\"Odd numbers from the list --> \")\n",
    "odd_no = []\n",
    "for i in l8:\n",
    "    if i%2==1 :\n",
    "        odd_no.append(i)\n",
    "print(odd_no)"
   ]
  },
  {
   "cell_type": "code",
   "execution_count": 74,
   "metadata": {},
   "outputs": [
    {
     "name": "stdout",
     "output_type": "stream",
     "text": [
      "List --> \n",
      "[1, 3, 4, 5, 88, 79, [], [1, 2, 3, 4, 5]]\n",
      "Removing empty list --> \n",
      "[1, 3, 4, 5, 88, 79, [1, 2, 3, 4, 5]]\n"
     ]
    }
   ],
   "source": [
    "#9. Write a Python program to Remove empty List from List?\n",
    "\n",
    "l9 = [1,3,4,5,88,79,[],[1,2,3,4,5]]\n",
    "print(\"List --> \")\n",
    "print(l9)\n",
    "print(\"Removing empty list --> \")\n",
    "l9.remove([])\n",
    "print(l9)"
   ]
  },
  {
   "cell_type": "code",
   "execution_count": 75,
   "metadata": {},
   "outputs": [
    {
     "name": "stdout",
     "output_type": "stream",
     "text": [
      "List --> \n",
      "[3, 47, 89, 83, 42, 76, 92, 60, 4, 36, 54, 17, 61, 65, 99]\n",
      "Copied List --> \n",
      "[3, 47, 89, 83, 42, 76, 92, 60, 4, 36, 54, 17, 61, 65, 99]\n"
     ]
    }
   ],
   "source": [
    "#10. Write a Python program to Cloning or Copying a list?\n",
    "\n",
    "import random\n",
    "l10 = [i for i in random.sample(range(1,100), 15)]\n",
    "print(\"List --> \")\n",
    "print(l10)\n",
    "print(\"Copied List --> \")\n",
    "l_copy=l10.copy()\n",
    "print(l_copy)"
   ]
  }
 ],
 "metadata": {
  "kernelspec": {
   "display_name": "Python 3",
   "language": "python",
   "name": "python3"
  },
  "language_info": {
   "codemirror_mode": {
    "name": "ipython",
    "version": 3
   },
   "file_extension": ".py",
   "mimetype": "text/x-python",
   "name": "python",
   "nbconvert_exporter": "python",
   "pygments_lexer": "ipython3",
   "version": "3.8.5"
  }
 },
 "nbformat": 4,
 "nbformat_minor": 4
}
