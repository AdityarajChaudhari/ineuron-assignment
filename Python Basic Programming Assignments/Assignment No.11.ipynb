{
 "cells": [
  {
   "cell_type": "code",
   "execution_count": 1,
   "metadata": {},
   "outputs": [
    {
     "name": "stdout",
     "output_type": "stream",
     "text": [
      "Enter the string :- Adityaraj Chaudhari\n",
      "Adityaraj Chaudhari\n",
      "Total length of a string :- 19\n",
      "Enter the desired len :-6\n",
      "raj Chaudhari\n"
     ]
    }
   ],
   "source": [
    "# 1. Write a Python program to find words which are greater than given length k?\n",
    "\n",
    "str_input = input(\"Enter the string :- \")\n",
    "print(str_input)\n",
    "print(f\"Total length of a string :- {len(str_input)}\")\n",
    "l = []\n",
    "len_k = int(input(\"Enter the desired len :-\"))\n",
    "if len_k > len(str_input):\n",
    "    print(\"enter the correct value\")\n",
    "else:\n",
    "    while len_k != len(str_input):\n",
    "        l.append(str_input[len_k])\n",
    "        len_k += 1\n",
    "    print(*l,sep=\"\")\n"
   ]
  },
  {
   "cell_type": "code",
   "execution_count": 2,
   "metadata": {},
   "outputs": [
    {
     "name": "stdout",
     "output_type": "stream",
     "text": [
      "Enter the string :- Corona\n",
      "Enter the number of charachter to be removed :-3\n",
      "Co -removed- ona\n"
     ]
    }
   ],
   "source": [
    "# 2. Write a Python program for removing i-th character from a string?\n",
    "\n",
    "str_input = input(\"Enter the string :- \")\n",
    "str_input\n",
    "i_char = int(input(\"Enter the number of charachter to be removed :-\"))\n",
    "if i_char > len(str_input):\n",
    "    print(\"Enter the correct value\")\n",
    "else:\n",
    "    a = str_input.replace(str_input[i_char-1],' -removed- ')\n",
    "    print(a)"
   ]
  },
  {
   "cell_type": "code",
   "execution_count": 3,
   "metadata": {},
   "outputs": [
    {
     "name": "stdout",
     "output_type": "stream",
     "text": [
      "Enter the string :- Hello, World\n",
      "Splitted string :- ['Hello,', 'World']\n",
      "Joined string :- Hello,World\n"
     ]
    }
   ],
   "source": [
    "# 3. Write a Python program to split and join a string?\n",
    "\n",
    "str_input = input(\"Enter the string :- \")\n",
    "split_str = str_input.split()\n",
    "print(f\"Splitted string :- {split_str}\")\n",
    "print(f\"Joined string :- {''.join(split_str)}\")"
   ]
  },
  {
   "cell_type": "code",
   "execution_count": 4,
   "metadata": {},
   "outputs": [
    {
     "name": "stdout",
     "output_type": "stream",
     "text": [
      "11100000a\n",
      "Not a binary string.\n"
     ]
    }
   ],
   "source": [
    "# 4. Write a Python to check if a given string is binary string or not?\n",
    "\n",
    "str_input = input()\n",
    "binary = {'0','1'}\n",
    "set_str = set(str_input)\n",
    "\n",
    "if binary == set_str or set_str == {'0'} or set_str == {'1'}:\n",
    "    print(\"Binary string.\")\n",
    "else:\n",
    "    print(\"Not a binary string.\")\n",
    "\n",
    "    "
   ]
  },
  {
   "cell_type": "code",
   "execution_count": 5,
   "metadata": {},
   "outputs": [
    {
     "name": "stdout",
     "output_type": "stream",
     "text": [
      "enter the string :- Adityaraj Chaudhari\n",
      "enter the string :- Shivam Pol\n",
      "Uncommon Words :-  t S u y m A r C l v P j o d\n"
     ]
    }
   ],
   "source": [
    "# 5. Write a Python program to find uncommon words from two Strings?\n",
    "\n",
    "str_input1 = set(input(\"enter the string :- \"))\n",
    "str_input2 = set(input(\"enter the string :- \"))\n",
    "output=str_input1.symmetric_difference(str_input2)\n",
    "print(\"Uncommon Words :- \",*output)"
   ]
  },
  {
   "cell_type": "code",
   "execution_count": 6,
   "metadata": {},
   "outputs": [
    {
     "name": "stdout",
     "output_type": "stream",
     "text": [
      "enter the string :-lionel messi\n",
      "The list after removing duplicates :- l i o n e   m s\n",
      "The Duplicates in list are :-  l e s i\n"
     ]
    }
   ],
   "source": [
    "# 6. Write a Python to find all duplicate characters in string?\n",
    "\n",
    "str_input = (input(\"enter the string :-\"))\n",
    "l = []\n",
    "d = []\n",
    "for i in str_input:\n",
    "    if i not in l:\n",
    "        l.append(i)\n",
    "    else:\n",
    "        d.append(i)\n",
    "print (\"The list after removing duplicates :-\",*l)\n",
    "print(\"The Duplicates in list are :- \",*d)\n",
    "        \n"
   ]
  },
  {
   "cell_type": "code",
   "execution_count": 7,
   "metadata": {},
   "outputs": [
    {
     "name": "stdout",
     "output_type": "stream",
     "text": [
      "Enter the string :- Vishy@anand\n",
      "String contains special character\n"
     ]
    }
   ],
   "source": [
    "# 7. Write a Python Program to check if a string contains any special character?\n",
    "\n",
    "str_input = input(\"Enter the string :- \")\n",
    "if str_input.isalnum() == True:\n",
    "    print(\"String doesnot has special character\")\n",
    "else:\n",
    "    print(\"String contains special character\")"
   ]
  }
 ],
 "metadata": {
  "kernelspec": {
   "display_name": "Python 3",
   "language": "python",
   "name": "python3"
  },
  "language_info": {
   "codemirror_mode": {
    "name": "ipython",
    "version": 3
   },
   "file_extension": ".py",
   "mimetype": "text/x-python",
   "name": "python",
   "nbconvert_exporter": "python",
   "pygments_lexer": "ipython3",
   "version": "3.8.5"
  }
 },
 "nbformat": 4,
 "nbformat_minor": 4
}
