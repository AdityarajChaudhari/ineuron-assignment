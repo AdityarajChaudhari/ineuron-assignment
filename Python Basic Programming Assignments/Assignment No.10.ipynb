{
 "cells": [
  {
   "cell_type": "code",
   "execution_count": 1,
   "metadata": {},
   "outputs": [],
   "source": [
    "# 1. Write a Python program to find sum of elements in list?\n",
    "\n",
    "l1 = [i  for i in range(1,20,3)]\n",
    "print(\"List -->\")\n",
    "print(l1)\n",
    "print(\"Sum of elements in the list -->\")\n",
    "print(sum(l1))"
   ]
  },
  {
   "cell_type": "code",
   "execution_count": 2,
   "metadata": {},
   "outputs": [],
   "source": [
    "# 2.  Write a Python program to Multiply all numbers in the list?\n",
    "\n",
    "l2 = [i for i in range(2,10,2)]\n",
    "print(\"List -->\")\n",
    "print(l2)\n",
    "mul = 1\n",
    "for i in (l2):\n",
    "    mul *= i\n",
    "print(\"Multiplication of elements in the list -->\")\n",
    "print(mul)"
   ]
  },
  {
   "cell_type": "code",
   "execution_count": 3,
   "metadata": {},
   "outputs": [
    {
     "name": "stdout",
     "output_type": "stream",
     "text": [
      "List --> \n",
      "[10, 53, 98, 3, 49, 20, 95, 38, 76, 57, 74, 19, 69, 86, 99, 64, 88, 78, 42, 58, 81, 40, 8, 59, 50]\n",
      "List in Sorted order -->\n",
      "[3, 8, 10, 19, 20, 38, 40, 42, 49, 50, 53, 57, 58, 59, 64, 69, 74, 76, 78, 81, 86, 88, 95, 98, 99]\n",
      "Smallest number in the list is :- \n",
      "3\n"
     ]
    }
   ],
   "source": [
    "# 3. Write a Python program to find smallest number in a list?\n",
    "\n",
    "import random\n",
    "l3 = [i for i in (random.sample(range(1,100), 25))]\n",
    "print(\"List --> \")\n",
    "print(l3)\n",
    "print(\"List in Sorted order -->\")\n",
    "l3.sort()\n",
    "print(l3)\n",
    "print(\"Smallest number in the list is :- \")\n",
    "print(l3[0])"
   ]
  },
  {
   "cell_type": "code",
   "execution_count": 4,
   "metadata": {},
   "outputs": [
    {
     "name": "stdout",
     "output_type": "stream",
     "text": [
      "List --> \n",
      "[51, 38, 19, 53, 65, 6, 88, 96, 15, 79, 24, 8, 52, 71, 92, 49, 4, 22, 68, 29, 60, 66, 3, 69, 99]\n",
      "List in Sorted order -->\n",
      "[3, 4, 6, 8, 15, 19, 22, 24, 29, 38, 49, 51, 52, 53, 60, 65, 66, 68, 69, 71, 79, 88, 92, 96, 99]\n",
      "Largest number in the list is :- \n",
      "99\n"
     ]
    }
   ],
   "source": [
    "#4. Write a Python program to find largest number in a list?\n",
    "\n",
    "import random\n",
    "l4 = [i for i in (random.sample(range(1,100), 25))]\n",
    "print(\"List --> \")\n",
    "print(l4)\n",
    "print(\"List in Sorted order -->\")\n",
    "l4.sort()\n",
    "print(l4)\n",
    "print(\"Largest number in the list is :- \")\n",
    "print(l4[-1])"
   ]
  },
  {
   "cell_type": "code",
   "execution_count": 5,
   "metadata": {},
   "outputs": [
    {
     "name": "stdout",
     "output_type": "stream",
     "text": [
      "List --> \n",
      "[72, 90, 87, 33, 22, 44, 67, 54, 70, 82, 50, 68, 6, 78, 46, 79, 12, 76, 19, 42, 2, 66, 34, 99, 64]\n",
      "List in Sorted order -->\n",
      "[2, 6, 12, 19, 22, 33, 34, 42, 44, 46, 50, 54, 64, 66, 67, 68, 70, 72, 76, 78, 79, 82, 87, 90, 99]\n",
      "Second Largest number in the list is :- \n",
      "90\n"
     ]
    }
   ],
   "source": [
    "#5. Write a Python program to find second largest number in a list?\n",
    "\n",
    "import random\n",
    "l5 = [i for i in (random.sample(range(1,100), 25))]\n",
    "print(\"List --> \")\n",
    "print(l5)\n",
    "print(\"List in Sorted order -->\")\n",
    "l5.sort()\n",
    "print(l5)\n",
    "print(\"Second Largest number in the list is :- \")\n",
    "print(l5[-2])"
   ]
  },
  {
   "cell_type": "code",
   "execution_count": 6,
   "metadata": {},
   "outputs": [
    {
     "name": "stdout",
     "output_type": "stream",
     "text": [
      "List -->\n",
      "[21, 26, 58, 41, 32, 10, 81, 73, 82, 12, 89, 46, 39, 54, 98, 1, 57, 2, 19, 88, 49, 17, 53, 47, 11]\n",
      "Enter the number of N largest elements :- 3\n",
      "The number of N largest element is :- 3\n",
      "[1, 2, 10, 11, 12, 17, 19, 21, 26, 32, 39, 41, 46, 47, 49, 53, 54, 57, 58, 73, 81, 82, 88, 89, 98]\n",
      "N largest element in list are :-\n",
      "[88, 89, 98]\n"
     ]
    }
   ],
   "source": [
    "# Write a Python program to find N largest elements from a list?\n",
    "\n",
    "import random\n",
    "l6 = [i for i in random.sample(range(1,100),25)]\n",
    "print('List -->')\n",
    "print(l6)\n",
    "n = int(input(\"Enter the number of N largest elements :- \"))\n",
    "print(f\"The number of N largest element is :- {n}\")\n",
    "l6.sort()\n",
    "print(l6)\n",
    "print(\"N largest element in list are :-\")\n",
    "print(l6[-n:])"
   ]
  },
  {
   "cell_type": "code",
   "execution_count": 7,
   "metadata": {},
   "outputs": [
    {
     "name": "stdout",
     "output_type": "stream",
     "text": [
      "List --> \n",
      "[84, 97, 30, 85, 79, 6, 44, 5, 7, 23, 57, 28, 76, 87, 41, 62, 71, 3, 20, 38]\n",
      "Even numbers from the list --> \n",
      "[84, 30, 6, 44, 28, 76, 62, 20, 38]\n"
     ]
    }
   ],
   "source": [
    "#7. Write a Python program to print even numbers in a list?\n",
    "\n",
    "import random\n",
    "l7 = [i for i in random.sample(range(1,100), 20)]\n",
    "print(\"List --> \")\n",
    "print(l7)\n",
    "print(\"Even numbers from the list --> \")\n",
    "even_no = []\n",
    "for i in l7:\n",
    "    if i%2==0 :\n",
    "        even_no.append(i)\n",
    "print(even_no)"
   ]
  },
  {
   "cell_type": "code",
   "execution_count": 8,
   "metadata": {},
   "outputs": [
    {
     "name": "stdout",
     "output_type": "stream",
     "text": [
      "List --> \n",
      "[6, 89, 28, 13, 83, 46, 56, 90, 99, 69, 85, 22, 75, 8, 1, 74, 10, 7, 52, 65]\n",
      "Odd numbers from the list --> \n",
      "[89, 13, 83, 99, 69, 85, 75, 1, 7, 65]\n"
     ]
    }
   ],
   "source": [
    "#8. Write a Python program to print odd numbers in a List?\n",
    "\n",
    "import random\n",
    "l8 = [i for i in random.sample(range(1,100), 20)]\n",
    "print(\"List --> \")\n",
    "print(l8)\n",
    "print(\"Odd numbers from the list --> \")\n",
    "odd_no = []\n",
    "for i in l8:\n",
    "    if i%2==1 :\n",
    "        odd_no.append(i)\n",
    "print(odd_no)"
   ]
  },
  {
   "cell_type": "code",
   "execution_count": 9,
   "metadata": {},
   "outputs": [
    {
     "name": "stdout",
     "output_type": "stream",
     "text": [
      "List --> \n",
      "[1, 3, 4, 5, 88, 79, [], [1, 2, 3, 4, 5]]\n",
      "Removing empty list --> \n",
      "[1, 3, 4, 5, 88, 79, [1, 2, 3, 4, 5]]\n"
     ]
    }
   ],
   "source": [
    "#9. Write a Python program to Remove empty List from List?\n",
    "\n",
    "l9 = [1,3,4,5,88,79,[],[1,2,3,4,5]]\n",
    "print(\"List --> \")\n",
    "print(l9)\n",
    "print(\"Removing empty list --> \")\n",
    "l9.remove([])\n",
    "print(l9)"
   ]
  },
  {
   "cell_type": "code",
   "execution_count": 10,
   "metadata": {},
   "outputs": [
    {
     "name": "stdout",
     "output_type": "stream",
     "text": [
      "List --> \n",
      "[17, 11, 75, 38, 34, 44, 87, 59, 13, 12, 9, 57, 98, 77, 96]\n",
      "Copied List --> \n",
      "[17, 11, 75, 38, 34, 44, 87, 59, 13, 12, 9, 57, 98, 77, 96]\n"
     ]
    }
   ],
   "source": [
    "#10. Write a Python program to Cloning or Copying a list?\n",
    "\n",
    "import random\n",
    "l10 = [i for i in random.sample(range(1,100), 15)]\n",
    "print(\"List --> \")\n",
    "print(l10)\n",
    "print(\"Copied List --> \")\n",
    "l_copy=l10.copy()\n",
    "print(l_copy)"
   ]
  }
 ],
 "metadata": {
  "kernelspec": {
   "display_name": "Python 3",
   "language": "python",
   "name": "python3"
  },
  "language_info": {
   "codemirror_mode": {
    "name": "ipython",
    "version": 3
   },
   "file_extension": ".py",
   "mimetype": "text/x-python",
   "name": "python",
   "nbconvert_exporter": "python",
   "pygments_lexer": "ipython3",
   "version": "3.8.5"
  }
 },
 "nbformat": 4,
 "nbformat_minor": 4
}
