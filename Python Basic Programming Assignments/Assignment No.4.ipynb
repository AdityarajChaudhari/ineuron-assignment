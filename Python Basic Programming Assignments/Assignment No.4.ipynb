{
 "cells": [
  {
   "cell_type": "code",
   "execution_count": 1,
   "metadata": {},
   "outputs": [
    {
     "name": "stdout",
     "output_type": "stream",
     "text": [
      "Enter the number :- 9\n",
      "The number is 9\n",
      "The Factorial is :- 362880\n"
     ]
    }
   ],
   "source": [
    "# 1. Write a Python Program to Find the Factorial of a Number?\n",
    "\n",
    "n = int(input(\"Enter the number :- \"))\n",
    "print(f\"The number is {n}\")\n",
    "fact = 1\n",
    "if n == 1 :\n",
    "    print(\"Factorial of 1 is 1\")\n",
    "else :\n",
    "    for i in range(1,n+1):\n",
    "        fact *= i\n",
    "    print(\"The Factorial is :-\",fact)\n",
    "        "
   ]
  },
  {
   "cell_type": "code",
   "execution_count": 2,
   "metadata": {},
   "outputs": [
    {
     "name": "stdout",
     "output_type": "stream",
     "text": [
      "Enter the number :- 7\n",
      "The number is 7\n",
      "7 * 1 = 7\n",
      "7 * 2 = 14\n",
      "7 * 3 = 21\n",
      "7 * 4 = 28\n",
      "7 * 5 = 35\n",
      "7 * 6 = 42\n",
      "7 * 7 = 49\n",
      "7 * 8 = 56\n",
      "7 * 9 = 63\n",
      "7 * 10 = 70\n"
     ]
    }
   ],
   "source": [
    "# 2. Write a Python Program to Display the multiplication Table?\n",
    "\n",
    "num = int(input(\"Enter the number :- \"))\n",
    "print(\"The number is {}\".format(num))\n",
    "for i in range (1,11):\n",
    "    print(num , \"*\" , i , \"=\" , num*i)"
   ]
  },
  {
   "cell_type": "code",
   "execution_count": 3,
   "metadata": {},
   "outputs": [
    {
     "name": "stdout",
     "output_type": "stream",
     "text": [
      "Enter the number of terms to be printed :- 10\n",
      "The number of terms to be printed is :-  10\n",
      "0\n",
      "1\n",
      "1\n",
      "2\n",
      "3\n",
      "5\n",
      "8\n",
      "13\n",
      "21\n",
      "34\n"
     ]
    }
   ],
   "source": [
    "# 3. Write a Python Program to Print the Fibonacci sequence?\n",
    "\n",
    "n = int(input(\"Enter the number of terms to be printed :- \"))\n",
    "print(\"The number of terms to be printed is :- \",n)\n",
    "a = 0\n",
    "b = 1\n",
    "for i in range(n):\n",
    "    print(a)\n",
    "    c = a+b\n",
    "    a = b\n",
    "    b = c\n",
    "    \n"
   ]
  },
  {
   "cell_type": "code",
   "execution_count": 4,
   "metadata": {},
   "outputs": [
    {
     "name": "stdout",
     "output_type": "stream",
     "text": [
      "enter the number :- 153\n",
      "The entered number is :-  153\n",
      "27\n",
      "152\n",
      "153\n",
      "Armstrong Number\n"
     ]
    }
   ],
   "source": [
    "# 4. Write a Python Program to Check Armstrong Number?\n",
    "\n",
    "num = int(input(\"enter the number :- \"))\n",
    "print(\"The entered number is :- \",num)\n",
    "o = len(str(num))\n",
    "x = 0\n",
    "temp = num\n",
    "while temp>0:\n",
    "    a = temp % 10\n",
    "    #print(a)\n",
    "    x += a**o\n",
    "    print(x)\n",
    "    temp //= 10\n",
    "    #print(num)\n",
    "if num == x :\n",
    "    print(\"Armstrong Number\")\n",
    "else:\n",
    "    print(\"Not Armstrong Number\")"
   ]
  },
  {
   "cell_type": "code",
   "execution_count": 5,
   "metadata": {
    "scrolled": false
   },
   "outputs": [
    {
     "name": "stdout",
     "output_type": "stream",
     "text": [
      "enter starting value :- 1\n",
      "enter ending value :- 10000\n",
      "1\n",
      "2\n",
      "3\n",
      "4\n",
      "5\n",
      "6\n",
      "7\n",
      "8\n",
      "9\n",
      "153\n",
      "370\n",
      "371\n",
      "407\n",
      "1634\n",
      "8208\n",
      "9474\n"
     ]
    }
   ],
   "source": [
    "# 5. Write a Python Program to Find Armstrong Number in an Interval?\n",
    "x = int(input(\"enter starting value :- \"))\n",
    "y = int(input(\"enter ending value :- \"))\n",
    "for i in range(x,y):\n",
    "    \n",
    "    o = len(str(i))\n",
    "    a = 0\n",
    "    temp = i\n",
    "    while temp > 0 :\n",
    "        m = temp % 10\n",
    "        a += m ** o\n",
    "        temp //= 10\n",
    "    if i == a:\n",
    "        print(i)"
   ]
  },
  {
   "cell_type": "code",
   "execution_count": 6,
   "metadata": {},
   "outputs": [
    {
     "name": "stdout",
     "output_type": "stream",
     "text": [
      "Enter the number :- 13\n",
      "The number is 13\n",
      "The sum of natural number is :-  91\n"
     ]
    }
   ],
   "source": [
    "# 6. Write a Python Program to Find the Sum of Natural Numbers?\n",
    "\n",
    "num = int(input(\"Enter the number :- \"))\n",
    "print(f\"The number is {num}\")\n",
    "if num <= 0:\n",
    "    print(\"Number is not a natural number\")\n",
    "else:\n",
    "    print(\"The sum of natural number is :- \",((num * (num+1))//2))"
   ]
  }
 ],
 "metadata": {
  "kernelspec": {
   "display_name": "Python 3",
   "language": "python",
   "name": "python3"
  },
  "language_info": {
   "codemirror_mode": {
    "name": "ipython",
    "version": 3
   },
   "file_extension": ".py",
   "mimetype": "text/x-python",
   "name": "python",
   "nbconvert_exporter": "python",
   "pygments_lexer": "ipython3",
   "version": "3.8.5"
  }
 },
 "nbformat": 4,
 "nbformat_minor": 4
}
