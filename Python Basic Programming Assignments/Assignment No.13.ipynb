{
 "cells": [
  {
   "cell_type": "code",
   "execution_count": 1,
   "metadata": {},
   "outputs": [
    {
     "name": "stdout",
     "output_type": "stream",
     "text": [
      "Enter the number :- 100,150,180\n",
      "18,22,24\n"
     ]
    }
   ],
   "source": [
    "\"\"\"1 - Write a program that calculates and prints the value according to the given formula:\n",
    "Q = Square root of [(2 * C * D)/H]\n",
    "Following are the fixed values of C and H:\n",
    "C is 50. H is 30.\n",
    "D is the variable whose values should be input to your program in a comma-separated\n",
    "sequence.\n",
    "Example\n",
    "Let us assume the following comma separated input sequence is given to the program:\n",
    "100,150,180\n",
    "The output of the program should be:\n",
    "18,22,24\"\"\" \n",
    "\n",
    "C = 50\n",
    "H = 30\n",
    "D = [int(x) for x in input(\"Enter the number :- \").split(',')]\n",
    "l = []\n",
    "for i in D:\n",
    "    Q = ((2 * C * i)/H)**0.5\n",
    "    l.append(round(Q))\n",
    "print(*l,sep=',')    \n"
   ]
  },
  {
   "cell_type": "code",
   "execution_count": 2,
   "metadata": {},
   "outputs": [
    {
     "name": "stdout",
     "output_type": "stream",
     "text": [
      "enter the number :- 3\n",
      "enter the number5\n",
      "[[0. 0. 0. 0. 0.]\n",
      " [0. 1. 2. 3. 4.]\n",
      " [0. 2. 4. 6. 8.]]\n"
     ]
    }
   ],
   "source": [
    "\"\"\"2 - Write a program which takes 2 digits, X,Y as input and generates a 2-dimensional array. The\n",
    "element value in the i-th row and j-th column of the array should be i*j.\n",
    "Note: i=0,1.., X-1; j=0,1,¡Y-1.\n",
    "Example\n",
    "Suppose the following inputs are given to the program:\n",
    "3,5\n",
    "Then, the output of the program should be:\n",
    "[[0, 0, 0, 0, 0], [0, 1, 2, 3, 4], [0, 2, 4, 6, 8]]\"\"\"\n",
    "\n",
    "import numpy as np\n",
    "i = int(input(\"enter the number :- \"))\n",
    "j = int(input(\"enter the number\"))\n",
    "arr = np.zeros((i,j))\n",
    "a = np.arange(1,5)\n",
    "arr[1,1:] = a\n",
    "arr[2,1:] = a*2\n",
    "print(arr)"
   ]
  },
  {
   "cell_type": "code",
   "execution_count": 3,
   "metadata": {},
   "outputs": [
    {
     "data": {
      "text/plain": [
       "array([[0, 0, 0, 0, 0],\n",
       "       [0, 1, 2, 3, 4],\n",
       "       [0, 2, 4, 6, 8]])"
      ]
     },
     "execution_count": 3,
     "metadata": {},
     "output_type": "execute_result"
    }
   ],
   "source": [
    "import numpy as np\n",
    "np.array([[0, 0, 0, 0, 0], [0, 1, 2, 3, 4], [0, 2, 4, 6, 8]])"
   ]
  },
  {
   "cell_type": "code",
   "execution_count": 4,
   "metadata": {},
   "outputs": [
    {
     "name": "stdout",
     "output_type": "stream",
     "text": [
      "enter the word:-without,hello,bag,world\n",
      "\n",
      "bag,hello,without,world\n"
     ]
    }
   ],
   "source": [
    "\"\"\"3 - Write a program that accepts a comma separated sequence of words as input and prints the\n",
    "words in a comma-separated sequence after sorting them alphabetically.\n",
    "Suppose the following input is supplied to the program:\n",
    "without,hello,bag,world\n",
    "Then, the output should be:\n",
    "bag,hello,without,world\"\"\"\n",
    "\n",
    "words = [str(x) for x in input(\"enter the word:-\").split(',')]\n",
    "words.sort()\n",
    "print()\n",
    "print(','.join(words))"
   ]
  },
  {
   "cell_type": "code",
   "execution_count": 5,
   "metadata": {},
   "outputs": [
    {
     "name": "stdout",
     "output_type": "stream",
     "text": [
      "enter the word :- hello world and practice makes perfect and hello world again\n",
      "\n",
      "hello again and perfect world practice makes\n"
     ]
    }
   ],
   "source": [
    "\"\"\"4 - Write a program that accepts a sequence of whitespace separated words as input and prints\n",
    "the words after removing all duplicate words and sorting them alphanumerically.\n",
    "Suppose the following input is supplied to the program:\n",
    "hello world and practice makes perfect and hello world again\n",
    "Then, the output should be:\n",
    "again and hello makes perfect practice world\"\"\"\n",
    "\n",
    "words = [str(x) for x in input(\"enter the word :- \").split(' ')]\n",
    "words.sort()\n",
    "a = (words)\n",
    "print()\n",
    "print(' '.join(list(set(a))))\n"
   ]
  },
  {
   "cell_type": "code",
   "execution_count": 6,
   "metadata": {},
   "outputs": [
    {
     "name": "stdout",
     "output_type": "stream",
     "text": [
      "Enter the sentence :- hello world! 123\n"
     ]
    }
   ],
   "source": [
    "\"\"\"5 - Write a program that accepts a sentence and calculate the number of letters and digits.\n",
    "Suppose the following input is supplied to the program:\n",
    "hello world! 123\n",
    "Then, the output should be:\n",
    "LETTERS 10\n",
    "DIGITS 3\"\"\"\n",
    "\n",
    "sen = input(\"Enter the sentence :- \")\n",
    "no = [range(0,10)]\n",
    "l = []\n"
   ]
  },
  {
   "cell_type": "code",
   "execution_count": null,
   "metadata": {
    "scrolled": true
   },
   "outputs": [],
   "source": []
  },
  {
   "cell_type": "code",
   "execution_count": 24,
   "metadata": {
    "scrolled": true
   },
   "outputs": [
    {
     "name": "stdout",
     "output_type": "stream",
     "text": [
      "Enter the passowrds : -aditya,@d\n",
      "Not ['aditya', '@d']\n",
      "Yes []\n"
     ]
    }
   ],
   "source": [
    "import string\n",
    "a = string.ascii_letters\n",
    "x = string.digits\n",
    "#y = (\"$\",\"@\",\"#\")\n",
    "c = [str(x) for x in input(\"Enter the passowrds : -\").split(',')]\n",
    "b=[]\n",
    "v = []\n",
    "for i in c:\n",
    "    #if (len(i)<6 or len(i)>12):\n",
    "     #   b.append(i)\n",
    "    if (i not in a):\n",
    "        b.append(i)\n",
    "   # elif (i not in x):\n",
    "    #    b.append(i)\n",
    "   # elif (i not in \"$#@\"):\n",
    "    #    b.append(i)\n",
    "    else:\n",
    "        v.append(i)\n",
    "print(\"Not\",b)\n",
    "print(\"Yes\",v)"
   ]
  },
  {
   "cell_type": "code",
   "execution_count": 16,
   "metadata": {},
   "outputs": [
    {
     "data": {
      "text/plain": [
       "'0123456789'"
      ]
     },
     "execution_count": 16,
     "metadata": {},
     "output_type": "execute_result"
    }
   ],
   "source": [
    "string.digits"
   ]
  },
  {
   "cell_type": "code",
   "execution_count": 19,
   "metadata": {},
   "outputs": [
    {
     "name": "stdout",
     "output_type": "stream",
     "text": [
      "aa\n",
      "check\n",
      "['a', 'b', 'c', 'd', 'e', 'f', 'g', 'h', 'i', 'j', 'k', 'l', 'm', 'n', 'o', 'p', 'q', 'r', 's', 't', 'u', 'v', 'w', 'x', 'y', 'z', 'A', 'B', 'C', 'D', 'E', 'F', 'G', 'H', 'I', 'J', 'K', 'L', 'M', 'N', 'O', 'P', 'Q', 'R', 'S', 'T', 'U', 'V', 'W', 'X', 'Y', 'Z']\n"
     ]
    }
   ],
   "source": [
    "a = [x for x in string.ascii_letters]\n",
    "a = str(a)\n",
    "c = input()\n",
    "if a not in c:\n",
    "    print(\"check\")\n",
    "else:\n",
    "    print(\"not\")\n",
    "print(a)"
   ]
  }
 ],
 "metadata": {
  "kernelspec": {
   "display_name": "Python 3",
   "language": "python",
   "name": "python3"
  },
  "language_info": {
   "codemirror_mode": {
    "name": "ipython",
    "version": 3
   },
   "file_extension": ".py",
   "mimetype": "text/x-python",
   "name": "python",
   "nbconvert_exporter": "python",
   "pygments_lexer": "ipython3",
   "version": "3.8.5"
  }
 },
 "nbformat": 4,
 "nbformat_minor": 4
}
