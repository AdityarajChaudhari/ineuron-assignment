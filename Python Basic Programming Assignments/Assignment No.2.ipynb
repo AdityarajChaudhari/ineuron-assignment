{
 "cells": [
  {
   "cell_type": "code",
   "execution_count": 2,
   "metadata": {},
   "outputs": [
    {
     "name": "stdout",
     "output_type": "stream",
     "text": [
      "Enter the Kilometer :- 100\n",
      "Kilometers :-  100\n",
      "Miles :-  62.1\n"
     ]
    }
   ],
   "source": [
    "# 1. Write a Python program to convert kilometers to miles?\n",
    "\n",
    "km = int(input(\"Enter the Kilometer :- \"))\n",
    "print(\"Kilometers :- \",km)\n",
    "miles = km * 0.621\n",
    "print(\"Miles :- \",miles)"
   ]
  },
  {
   "cell_type": "code",
   "execution_count": 3,
   "metadata": {},
   "outputs": [
    {
     "name": "stdout",
     "output_type": "stream",
     "text": [
      "enter the value of celcius :- 64\n",
      "Celcius :-  64\n",
      "Fahrenheit :-  147.2\n"
     ]
    }
   ],
   "source": [
    "# 2. Write a Python program to convert Celsius to Fahrenheit?\n",
    "\n",
    "cel = int(input(\"enter the value of celcius :- \"))\n",
    "print(\"Celcius :- \",cel)\n",
    "fah = (cel * 1.8) + 32\n",
    "print(\"Fahrenheit :- \",fah)"
   ]
  },
  {
   "cell_type": "code",
   "execution_count": 4,
   "metadata": {},
   "outputs": [
    {
     "name": "stdout",
     "output_type": "stream",
     "text": [
      "Calendar of year 2021 is :- \n",
      "                                  2021\n",
      "\n",
      "      January                   February                   March\n",
      "Mo Tu We Th Fr Sa Su      Mo Tu We Th Fr Sa Su      Mo Tu We Th Fr Sa Su\n",
      "             1  2  3       1  2  3  4  5  6  7       1  2  3  4  5  6  7\n",
      " 4  5  6  7  8  9 10       8  9 10 11 12 13 14       8  9 10 11 12 13 14\n",
      "11 12 13 14 15 16 17      15 16 17 18 19 20 21      15 16 17 18 19 20 21\n",
      "18 19 20 21 22 23 24      22 23 24 25 26 27 28      22 23 24 25 26 27 28\n",
      "25 26 27 28 29 30 31                                29 30 31\n",
      "\n",
      "       April                      May                       June\n",
      "Mo Tu We Th Fr Sa Su      Mo Tu We Th Fr Sa Su      Mo Tu We Th Fr Sa Su\n",
      "          1  2  3  4                      1  2          1  2  3  4  5  6\n",
      " 5  6  7  8  9 10 11       3  4  5  6  7  8  9       7  8  9 10 11 12 13\n",
      "12 13 14 15 16 17 18      10 11 12 13 14 15 16      14 15 16 17 18 19 20\n",
      "19 20 21 22 23 24 25      17 18 19 20 21 22 23      21 22 23 24 25 26 27\n",
      "26 27 28 29 30            24 25 26 27 28 29 30      28 29 30\n",
      "                          31\n",
      "\n",
      "        July                     August                  September\n",
      "Mo Tu We Th Fr Sa Su      Mo Tu We Th Fr Sa Su      Mo Tu We Th Fr Sa Su\n",
      "          1  2  3  4                         1             1  2  3  4  5\n",
      " 5  6  7  8  9 10 11       2  3  4  5  6  7  8       6  7  8  9 10 11 12\n",
      "12 13 14 15 16 17 18       9 10 11 12 13 14 15      13 14 15 16 17 18 19\n",
      "19 20 21 22 23 24 25      16 17 18 19 20 21 22      20 21 22 23 24 25 26\n",
      "26 27 28 29 30 31         23 24 25 26 27 28 29      27 28 29 30\n",
      "                          30 31\n",
      "\n",
      "      October                   November                  December\n",
      "Mo Tu We Th Fr Sa Su      Mo Tu We Th Fr Sa Su      Mo Tu We Th Fr Sa Su\n",
      "             1  2  3       1  2  3  4  5  6  7             1  2  3  4  5\n",
      " 4  5  6  7  8  9 10       8  9 10 11 12 13 14       6  7  8  9 10 11 12\n",
      "11 12 13 14 15 16 17      15 16 17 18 19 20 21      13 14 15 16 17 18 19\n",
      "18 19 20 21 22 23 24      22 23 24 25 26 27 28      20 21 22 23 24 25 26\n",
      "25 26 27 28 29 30 31      29 30                     27 28 29 30 31\n",
      "\n"
     ]
    }
   ],
   "source": [
    "# 3. Write a Python program to display calendar?\n",
    "\n",
    "import calendar\n",
    "print(\"Calendar of year 2021 is :- \")\n",
    "print(calendar.calendar(2021))"
   ]
  },
  {
   "cell_type": "code",
   "execution_count": 6,
   "metadata": {},
   "outputs": [
    {
     "name": "stdout",
     "output_type": "stream",
     "text": [
      "Enter the value of a :- 7\n",
      "a :-  7\n",
      "Enter the value of b :- 5\n",
      "b :-  5\n",
      "Enter the value of c :- 1\n",
      "c :-  1\n",
      "the roots are (-17.5+6.06217782649107j) , (-17.5-6.06217782649107j)\n"
     ]
    }
   ],
   "source": [
    "# 4. Write a Python program to solve quadratic equation?\n",
    "\n",
    "a = int(input(\"Enter the value of a :- \"))\n",
    "print(\"a :- \",a)\n",
    "b = int(input(\"Enter the value of b :- \"))\n",
    "print(\"b :- \",b)\n",
    "c = int(input(\"Enter the value of c :- \"))\n",
    "print(\"c :- \",c)\n",
    "val1 = (-b + ((b * b) - 4 * a * c) ** 0.5) / 2 * a\n",
    "val2 = (-b - ((b * b) - 4 * a * c) ** 0.5) / 2 * a\n",
    "print(f\"the roots are {val1} , {val2}\")"
   ]
  },
  {
   "cell_type": "code",
   "execution_count": 7,
   "metadata": {},
   "outputs": [
    {
     "name": "stdout",
     "output_type": "stream",
     "text": [
      "Enter the value of m :- 37\n",
      "Enter the value of n :- 73\n",
      "Before Swapping ------->\n",
      "m :->  37\n",
      "n :->  73\n",
      "After Swapping ------->\n",
      "m :->  73\n",
      "n :->  37\n"
     ]
    }
   ],
   "source": [
    "# 5. Write a Python program to swap two variables without temp variable?\n",
    "\n",
    "m = int(input(\"Enter the value of m :- \"))\n",
    "n = int(input(\"Enter the value of n :- \"))\n",
    "print('Before Swapping ------->')\n",
    "print(\"m :-> \",m)\n",
    "print(\"n :-> \",n)\n",
    "m , n = n , m\n",
    "print('After Swapping ------->')\n",
    "print(\"m :-> \",m)\n",
    "print(\"n :-> \",n)"
   ]
  },
  {
   "cell_type": "code",
   "execution_count": null,
   "metadata": {},
   "outputs": [],
   "source": []
  },
  {
   "cell_type": "code",
   "execution_count": null,
   "metadata": {},
   "outputs": [],
   "source": []
  },
  {
   "cell_type": "code",
   "execution_count": null,
   "metadata": {},
   "outputs": [],
   "source": []
  }
 ],
 "metadata": {
  "kernelspec": {
   "display_name": "Python 3",
   "language": "python",
   "name": "python3"
  },
  "language_info": {
   "codemirror_mode": {
    "name": "ipython",
    "version": 3
   },
   "file_extension": ".py",
   "mimetype": "text/x-python",
   "name": "python",
   "nbconvert_exporter": "python",
   "pygments_lexer": "ipython3",
   "version": "3.8.3"
  }
 },
 "nbformat": 4,
 "nbformat_minor": 4
}
