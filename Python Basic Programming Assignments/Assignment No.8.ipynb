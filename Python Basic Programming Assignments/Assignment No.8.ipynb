{
 "cells": [
  {
   "cell_type": "code",
   "execution_count": 1,
   "metadata": {},
   "outputs": [
    {
     "name": "stdout",
     "output_type": "stream",
     "text": [
      "The Matrix A is :- \n",
      " [[1 2]\n",
      " [3 4]]\n",
      "The Matrix B is :- \n",
      " [[5 6]\n",
      " [7 8]]\n",
      "The Addition of Two Matrices is :- \n",
      " [[ 6  8]\n",
      " [10 12]]\n"
     ]
    }
   ],
   "source": [
    "# 1. Write a Python Program to Add Two Matrices?\n",
    "\n",
    "import numpy as np\n",
    "a = np.mat(np.array([[1,2],[3,4]]))\n",
    "print(\"The Matrix A is :- \\n\",a)\n",
    "b = np.mat(np.array([[5,6],[7,8]]))\n",
    "print(\"The Matrix B is :- \\n\",b)\n",
    "print(\"The Addition of Two Matrices is :- \\n\",a + b)"
   ]
  },
  {
   "cell_type": "code",
   "execution_count": 2,
   "metadata": {},
   "outputs": [
    {
     "name": "stdout",
     "output_type": "stream",
     "text": [
      "The Matrix A is :- \n",
      " [[1 2]\n",
      " [3 4]]\n",
      "The Matrix B is :- \n",
      " [[5 6]\n",
      " [7 8]]\n",
      "The Addition of Two Matrices is :- \n",
      " [[19 22]\n",
      " [43 50]]\n"
     ]
    }
   ],
   "source": [
    "# 2. Write a Python Program to Multiply Two Matrices?\n",
    "\n",
    "import numpy as np\n",
    "a = np.mat(np.array([[1,2],[3,4]]))\n",
    "print(\"The Matrix A is :- \\n\",a)\n",
    "b = np.mat(np.array([[5,6],[7,8]]))\n",
    "print(\"The Matrix B is :- \\n\",b)\n",
    "print(\"The Addition of Two Matrices is :- \\n\",a @ b)"
   ]
  },
  {
   "cell_type": "code",
   "execution_count": 3,
   "metadata": {},
   "outputs": [
    {
     "name": "stdout",
     "output_type": "stream",
     "text": [
      "The Original Matrix is :- \n",
      " [[1 2 3]\n",
      " [4 5 6]\n",
      " [7 8 9]]\n",
      "The Transpose is :- \n",
      " [[1 4 7]\n",
      " [2 5 8]\n",
      " [3 6 9]]\n"
     ]
    }
   ],
   "source": [
    "# 3. Write a Python Program to Transpose a Matrix?\n",
    "\n",
    "matrix = np.mat(np.array([[[1,2,3],[4,5,6],[7,8,9]]]))\n",
    "print(\"The Original Matrix is :- \\n\",matrix)\n",
    "print(\"The Transpose is :- \\n\",matrix.T)"
   ]
  },
  {
   "cell_type": "code",
   "execution_count": 4,
   "metadata": {},
   "outputs": [
    {
     "name": "stdout",
     "output_type": "stream",
     "text": [
      "Enter the string :-chaudhari\n",
      "Original Word :-\n",
      "chaudhari\n",
      "In Sorted Manner :-\n",
      "aacdhhiru\n"
     ]
    }
   ],
   "source": [
    "# 4. Write a Python Program to Sort Words in Alphabetic Order?\n",
    "\n",
    "def sort_word(word):\n",
    "    print(\"Original Word :-\\n\",word,sep=\"\")\n",
    "    a = list(word)\n",
    "    a.sort()\n",
    "    print(\"In Sorted Manner :-\\n\",*a,sep='')\n",
    "\n",
    "sort_word(input(\"Enter the string :-\"))    "
   ]
  },
  {
   "cell_type": "code",
   "execution_count": 5,
   "metadata": {},
   "outputs": [
    {
     "name": "stdout",
     "output_type": "stream",
     "text": [
      "Enter the string with punctuations :- \"#I'm Adityaraj!%^&><\"\n",
      "\"#I'm Adityaraj!%^&><\"\n",
      "The String without punctuation is :- \n",
      " ImAdityaraj\n"
     ]
    }
   ],
   "source": [
    "# 5. Write a Python Program to Remove Punctuation From a String?\n",
    "\n",
    "string = input(\"Enter the string with punctuations :- \")\n",
    "print(string)\n",
    "punctuations = '''!()-[]{};:'\"\\, <>./?@#$%^&*_~'''\n",
    "for i in string:\n",
    "    if i in punctuations:\n",
    "        string = string.replace(i,'')\n",
    "print(\"The String without punctuation is :- \\n\",string)\n",
    "        "
   ]
  },
  {
   "cell_type": "code",
   "execution_count": null,
   "metadata": {},
   "outputs": [],
   "source": []
  },
  {
   "cell_type": "code",
   "execution_count": null,
   "metadata": {},
   "outputs": [],
   "source": []
  }
 ],
 "metadata": {
  "kernelspec": {
   "display_name": "Python 3",
   "language": "python",
   "name": "python3"
  },
  "language_info": {
   "codemirror_mode": {
    "name": "ipython",
    "version": 3
   },
   "file_extension": ".py",
   "mimetype": "text/x-python",
   "name": "python",
   "nbconvert_exporter": "python",
   "pygments_lexer": "ipython3",
   "version": "3.8.5"
  }
 },
 "nbformat": 4,
 "nbformat_minor": 4
}
