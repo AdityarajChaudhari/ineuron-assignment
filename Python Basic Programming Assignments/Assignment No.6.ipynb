{
 "cells": [
  {
   "cell_type": "code",
   "execution_count": 1,
   "metadata": {},
   "outputs": [
    {
     "name": "stdout",
     "output_type": "stream",
     "text": [
      "Enter the number of terms :- 8\n",
      "The number of terms are :- 8\n",
      "0\n",
      "1\n",
      "1\n",
      "2\n",
      "3\n",
      "5\n",
      "8\n",
      "13\n"
     ]
    }
   ],
   "source": [
    "# 1. Write a Python Program to Display Fibonacci Sequence Using Recursion?\n",
    "\n",
    "no_of_terms = int(input(\"Enter the number of terms :- \"))\n",
    "print(f\"The number of terms are :- {no_of_terms}\")\n",
    "def fibo(n):\n",
    "    if n <= 1:\n",
    "        return n\n",
    "    else:\n",
    "        return (fibo(n-1)+fibo(n-2))\n",
    "if no_of_terms <= 0:\n",
    "    print(\"enter proper value!!\")\n",
    "else:\n",
    "    for i in range(no_of_terms):\n",
    "        print(fibo(i))"
   ]
  },
  {
   "cell_type": "code",
   "execution_count": 2,
   "metadata": {},
   "outputs": [
    {
     "name": "stdout",
     "output_type": "stream",
     "text": [
      "Enter the number :- 5\n",
      "The number is 5\n",
      "The Factorial of 5 is 120\n"
     ]
    }
   ],
   "source": [
    "# 2. Write a Python Program to Find Factorial of Number Using Recursion?\n",
    "\n",
    "num = int(input(\"Enter the number :- \"))\n",
    "print(f\"The number is {num}\")\n",
    "def fact(n):\n",
    "    if n == 0 :\n",
    "        print(\"Factorial of 0 is 1\")\n",
    "    elif n < 0 :\n",
    "        print(\"Enter proper value!!\")\n",
    "    elif n == 1:\n",
    "        return n\n",
    "    else:\n",
    "        return n*fact(n-1)\n",
    "print(f\"The Factorial of {num} is {fact(num)}\")"
   ]
  },
  {
   "cell_type": "code",
   "execution_count": 3,
   "metadata": {},
   "outputs": [
    {
     "name": "stdout",
     "output_type": "stream",
     "text": [
      "Enter the height (in meters):- 1.70\n",
      "The height is 1.7\n",
      "Enter the weight (in kgs):- 70\n",
      "The weight is 70.0\n",
      "The Body Mass Index is :-  24.221453287197235\n"
     ]
    }
   ],
   "source": [
    "# 3. Write a Python Program to calculate your Body Mass Index?\n",
    "\n",
    "height = float(input(\"Enter the height (in meters):- \"))\n",
    "print(f'The height is {height}')\n",
    "weight = float(input(\"Enter the weight (in kgs):- \"))\n",
    "print(f'The weight is {weight}')\n",
    "bmi = weight / height**2\n",
    "print(\"The Body Mass Index is :- \",bmi)"
   ]
  },
  {
   "cell_type": "code",
   "execution_count": 4,
   "metadata": {},
   "outputs": [
    {
     "name": "stdout",
     "output_type": "stream",
     "text": [
      "Enter the number:- 75\n",
      "The number is 75\n",
      "The natural logarithm of the 75 is 4.31748811353631\n"
     ]
    }
   ],
   "source": [
    "# 4. Write a Python Program to calculate the natural logarithm of any number?\n",
    "\n",
    "import math\n",
    "\n",
    "num = int(input(\"Enter the number:- \"))\n",
    "print(f\"The number is {num}\")\n",
    "print(f\"The natural logarithm of the {num} is {math.log(num)}\")"
   ]
  },
  {
   "cell_type": "code",
   "execution_count": 5,
   "metadata": {},
   "outputs": [
    {
     "name": "stdout",
     "output_type": "stream",
     "text": [
      "Enter the number:- 5\n",
      "The cube sum of first 5 natural numbers is :- 225\n"
     ]
    }
   ],
   "source": [
    "# 5. Write a Python Program for cube sum of first n natural numbers?\n",
    "\n",
    "n = int(input(\"Enter the number:- \"))\n",
    "if n == 0:\n",
    "    print(\"enter the natural number\")\n",
    "else:\n",
    "    val = 0\n",
    "    for i in range(1,n+1):\n",
    "        a = i**3\n",
    "        val += a\n",
    "    print(f\"The cube sum of first {n} natural numbers is :- {val}\")\n",
    "    "
   ]
  },
  {
   "cell_type": "code",
   "execution_count": null,
   "metadata": {},
   "outputs": [],
   "source": []
  }
 ],
 "metadata": {
  "kernelspec": {
   "display_name": "Python 3",
   "language": "python",
   "name": "python3"
  },
  "language_info": {
   "codemirror_mode": {
    "name": "ipython",
    "version": 3
   },
   "file_extension": ".py",
   "mimetype": "text/x-python",
   "name": "python",
   "nbconvert_exporter": "python",
   "pygments_lexer": "ipython3",
   "version": "3.8.5"
  }
 },
 "nbformat": 4,
 "nbformat_minor": 4
}
