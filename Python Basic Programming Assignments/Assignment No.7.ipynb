{
 "cells": [
  {
   "cell_type": "code",
   "execution_count": 1,
   "metadata": {},
   "outputs": [
    {
     "name": "stdout",
     "output_type": "stream",
     "text": [
      "The sum of all elements of array is :-  299\n"
     ]
    }
   ],
   "source": [
    "# 1. Write a Python Program to find sum of array?\n",
    "\n",
    "arr = [4,5,34,56,78,23,99]\n",
    "print(\"The sum of all elements of array is :- \",sum(arr))"
   ]
  },
  {
   "cell_type": "code",
   "execution_count": 2,
   "metadata": {},
   "outputs": [
    {
     "name": "stdout",
     "output_type": "stream",
     "text": [
      "[22, 72, 99, 18, 51, 7, 53, 6, 30, 55, 69, 86, 35, 46, 8]\n",
      "The maximum element in the array is :-  99\n"
     ]
    }
   ],
   "source": [
    "# 2. Write a Python Program to find largest element in an array?\n",
    "\n",
    "import random\n",
    "arr2 = [i for i in random.sample(range(1,100),15)]\n",
    "print(arr2)\n",
    "print(\"The maximum element in the array is :- \",max(arr2))"
   ]
  },
  {
   "cell_type": "code",
   "execution_count": 3,
   "metadata": {},
   "outputs": [
    {
     "name": "stdout",
     "output_type": "stream",
     "text": [
      "The array is :- \n",
      "[68, 63, 32, 41, 83, 1, 11, 4, 82, 18, 36, 17, 6, 53, 66]\n",
      "Rotated array is :- \n",
      "[66, 53, 6, 17, 36, 18, 82, 4, 11, 1, 83, 41, 32, 63, 68]\n"
     ]
    }
   ],
   "source": [
    "# 3. Write a Python Program for array rotation?\n",
    "\n",
    "import random\n",
    "arr3 = [i for i in random.sample(range(1,100),15)]\n",
    "print(\"The array is :- \")\n",
    "print(arr3)\n",
    "print(\"Rotated array is :- \")\n",
    "arr3.reverse()\n",
    "print(arr3)"
   ]
  },
  {
   "cell_type": "code",
   "execution_count": 4,
   "metadata": {},
   "outputs": [
    {
     "name": "stdout",
     "output_type": "stream",
     "text": [
      "The array is :- \n",
      "[31, 67, 45, 40, 6, 69, 81, 89, 98, 61, 77, 65, 39, 11, 22]\n",
      "Splitting the array :- \n",
      "Enter the number of elements to split:- 4\n",
      "The splitted part is:-\n",
      "[31, 67, 45, 40]\n",
      "Adding the splitted part to the end :- \n",
      "[6, 69, 81, 89, 98, 61, 77, 65, 39, 11, 22, 31, 67, 45, 40]\n"
     ]
    }
   ],
   "source": [
    "# 4. Write a Python Program to Split the array and add the first part to the end?\n",
    "\n",
    "import random\n",
    "arr4 = [i for i in random.sample(range(1,100),15)]\n",
    "print(\"The array is :- \")\n",
    "print(arr4)\n",
    "print(\"Splitting the array :- \")\n",
    "n_split = int(input(\"Enter the number of elements to split:- \"))\n",
    "arr_split = arr4[:n_split]\n",
    "print(\"The splitted part is:-\")\n",
    "print(arr_split)\n",
    "del arr4[:n_split]\n",
    "arr4.extend(arr_split)\n",
    "print(\"Adding the splitted part to the end :- \")\n",
    "print(arr4)"
   ]
  },
  {
   "cell_type": "code",
   "execution_count": 5,
   "metadata": {},
   "outputs": [
    {
     "name": "stdout",
     "output_type": "stream",
     "text": [
      "Enter the number of elements to print in array :- 7\n",
      "Enter the number :- 1\n",
      "Enter the number :- 2\n",
      "Enter the number :- 3\n",
      "Enter the number :- 4\n",
      "Enter the number :- 5\n",
      "Enter the number :- 9\n",
      "Enter the number :- 99\n",
      "[1, 2, 3, 4, 5, 9, 99]\n",
      "Array is monotonic\n"
     ]
    }
   ],
   "source": [
    "# 5. Write a Python Program to check if given array is Monotonic?\n",
    "\n",
    "def is_monotonic(arr):\n",
    "    return (all(arr[i]>=arr[i+1] for i in range(len(arr)-1)) or all(arr[i]<=arr[i+1] for i in range(len(arr)-1)))\n",
    "no = int(input(\"Enter the number of elements to print in array :- \"))\n",
    "array = []\n",
    "for i in range(no):\n",
    "    i = int(input(\"Enter the number :- \"))\n",
    "    array.append(i)\n",
    "print(array)    \n",
    "if is_monotonic(array)==True:\n",
    "    print(\"Array is monotonic\")\n",
    "else:\n",
    "    print(\"Array is not monotonic\")"
   ]
  },
  {
   "cell_type": "code",
   "execution_count": null,
   "metadata": {},
   "outputs": [],
   "source": []
  },
  {
   "cell_type": "code",
   "execution_count": null,
   "metadata": {},
   "outputs": [],
   "source": []
  }
 ],
 "metadata": {
  "kernelspec": {
   "display_name": "Python 3",
   "language": "python",
   "name": "python3"
  },
  "language_info": {
   "codemirror_mode": {
    "name": "ipython",
    "version": 3
   },
   "file_extension": ".py",
   "mimetype": "text/x-python",
   "name": "python",
   "nbconvert_exporter": "python",
   "pygments_lexer": "ipython3",
   "version": "3.8.5"
  }
 },
 "nbformat": 4,
 "nbformat_minor": 4
}
