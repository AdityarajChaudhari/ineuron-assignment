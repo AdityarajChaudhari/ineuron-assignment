{
 "cells": [
  {
   "cell_type": "markdown",
   "metadata": {},
   "source": [
    "#### 1"
   ]
  },
  {
   "cell_type": "markdown",
   "metadata": {},
   "source": [
    "In the below elements which of them are values or an expression? eg:- values can be\n",
    "integer or string and expressions will be mathematical operators.\n",
    "*\n",
    "\n",
    "hello\n",
    "\n",
    "-87.8\n",
    "\n",
    "-\n",
    "\n",
    "/\n",
    "\n",
    "+\n",
    "\n",
    "6\n",
    "\n",
    "\n",
    "\n",
    "\n",
    "Answer :-  \n",
    "\n",
    "Value = hello , -87.8 , 6\n",
    "\n",
    "Expression = * , - , / , +          "
   ]
  },
  {
   "cell_type": "markdown",
   "metadata": {},
   "source": [
    "#### #####################################################"
   ]
  },
  {
   "cell_type": "markdown",
   "metadata": {},
   "source": [
    "#### 2"
   ]
  },
  {
   "cell_type": "markdown",
   "metadata": {},
   "source": [
    "What is the difference between string and variable?\n",
    "\n",
    "\n",
    "Answer :-\n",
    "\n",
    "string - String is a DataType\n",
    "\n",
    "variable - Variable is used to store data \n",
    "\n",
    "example - a = \"Adityaraj\"\n",
    "\n",
    "Here,\n",
    "\n",
    "    a = variable\n",
    "    \"Adityaraj\" = string"
   ]
  },
  {
   "cell_type": "markdown",
   "metadata": {},
   "source": [
    "#### #####################################################"
   ]
  },
  {
   "cell_type": "markdown",
   "metadata": {},
   "source": [
    "#### 3"
   ]
  },
  {
   "cell_type": "markdown",
   "metadata": {},
   "source": [
    "Describe three different data types.\n",
    "\n",
    "\n",
    "Answer :-\n",
    "\n",
    "The three different data types are :\n",
    "\n",
    "1 - String    eg - \"Adityaraj\" , \"75\" , \"9.05\"\n",
    "\n",
    "2 - Integer   eg - 67 , 100 , 1\n",
    "\n",
    "3 - Float     eg - 78.8 , 90.90 , 0.0000001"
   ]
  },
  {
   "cell_type": "markdown",
   "metadata": {},
   "source": [
    "#### #####################################################"
   ]
  },
  {
   "cell_type": "markdown",
   "metadata": {},
   "source": [
    "#### 4"
   ]
  },
  {
   "cell_type": "markdown",
   "metadata": {},
   "source": [
    "What is an expression made up of? What do all expressions do?\n",
    " \n",
    " \n",
    "Answer :- \n",
    "\n",
    "Expressions are combintion of operators and operands.\n",
    "Expression combine operator and operand to give certain value.\n",
    "\n",
    "eg - a = 10 * 5\n",
    "\n",
    "Here 10 , 5 are operands\n",
    "\n",
    "* , = are operators\n",
    "\n",
    "a is the result given by combination of operands and operators"
   ]
  },
  {
   "cell_type": "markdown",
   "metadata": {},
   "source": [
    "#### #####################################################"
   ]
  },
  {
   "cell_type": "markdown",
   "metadata": {},
   "source": [
    "#### 5"
   ]
  },
  {
   "cell_type": "markdown",
   "metadata": {},
   "source": [
    "This assignment statements, like spam = 10. What is the difference between an expression and a statement?\n",
    "\n",
    "\n",
    "Answer :- \n",
    "\n",
    "Expression - Expression is combination of operators and operands which in turn returns a certain value.\n",
    "eg - a = 70 + 5\n",
    "\n",
    "statement  - A statement is a instruction written in the code for execution and statement does something but doesnot necessarily return a a value.\n",
    "eg - if statement , assignment statement,etc\n",
    "\n"
   ]
  },
  {
   "cell_type": "markdown",
   "metadata": {},
   "source": [
    "#### #####################################################"
   ]
  },
  {
   "cell_type": "markdown",
   "metadata": {},
   "source": [
    "#### 6"
   ]
  },
  {
   "cell_type": "markdown",
   "metadata": {},
   "source": [
    "After running the following code, what does the variable bacon contain?\n",
    "bacon = 22\n",
    "bacon + 1\n",
    "\n",
    "\n",
    "Answer :-\n",
    "\n",
    "The variable bacon will contain the value 22"
   ]
  },
  {
   "cell_type": "markdown",
   "metadata": {},
   "source": [
    "#### #####################################################"
   ]
  },
  {
   "cell_type": "markdown",
   "metadata": {},
   "source": [
    "#### 7"
   ]
  },
  {
   "cell_type": "markdown",
   "metadata": {},
   "source": [
    "What should the values of the following two terms be?\n",
    "'spam' + 'spamspam'\n",
    "'spam' * 3\n",
    "\n",
    "\n",
    "Answer :-\n",
    "\n",
    "'spam' + 'spamspam'  =   'spamspamspam'        #Concatenation\n",
    "\n",
    "'spam' * 3           =   'spamspamspam'   #strings can be multiplied by numbers"
   ]
  },
  {
   "cell_type": "markdown",
   "metadata": {},
   "source": [
    "#### #####################################################"
   ]
  },
  {
   "cell_type": "markdown",
   "metadata": {},
   "source": [
    "#### 8"
   ]
  },
  {
   "cell_type": "markdown",
   "metadata": {},
   "source": [
    "Why is eggs a valid variable name while 100 is invalid?\n",
    "\n",
    "\n",
    "Answer :-\n",
    "\n",
    "According to law of python the variable name should not be number , shouldnot start with number , should not have any inbuilt function name other than that any word is accepted as a variable so eggs can be determined as a valid variable name and 100 cannot be determined as a valid variable name."
   ]
  },
  {
   "cell_type": "markdown",
   "metadata": {},
   "source": [
    "#### #####################################################\n"
   ]
  },
  {
   "cell_type": "markdown",
   "metadata": {},
   "source": [
    "#### 9"
   ]
  },
  {
   "cell_type": "markdown",
   "metadata": {},
   "source": [
    "What three functions can be used to get the integer, floating-point number, or string version of a value?\n",
    "\n",
    "\n",
    "Answer :-\n",
    "\n",
    "To get integer , floating point number or string version of a value we can use\n",
    "int() , float() or str() functions respectively\n",
    "\n",
    "eg :-\n",
    "\n",
    "a = 75\n",
    "\n",
    "print(str(a))\n",
    "\n",
    "print(float(a))\n",
    "\n",
    "print(int(a))"
   ]
  },
  {
   "cell_type": "markdown",
   "metadata": {},
   "source": [
    "#### #####################################################"
   ]
  },
  {
   "cell_type": "markdown",
   "metadata": {},
   "source": [
    "#### 10"
   ]
  },
  {
   "cell_type": "markdown",
   "metadata": {},
   "source": [
    "Why does this expression cause an error? How can you fix it?\n",
    "'I have eaten' + 99 + 'burritos.'\n",
    "\n",
    "\n",
    "Answer :-\n",
    "This expression causes error because string cannot be concatenated with interger.\n",
    "\n",
    "There are to ways in which we can fix this problem.\n",
    "\n",
    "1 - To covert the integer into string and carry on concatenation\n",
    "\n",
    "eg - 'I have eaten' + ' 99 ' + 'burritos.'\n",
    "\n",
    "                                 OR\n",
    "                                 \n",
    "2 - To remove the concatenation operators.\n",
    "\n",
    "eg - 'I have eaten', 99 , 'burritos.'\n",
    "\n",
    "\n"
   ]
  }
 ],
 "metadata": {
  "kernelspec": {
   "display_name": "Python 3",
   "language": "python",
   "name": "python3"
  },
  "language_info": {
   "codemirror_mode": {
    "name": "ipython",
    "version": 3
   },
   "file_extension": ".py",
   "mimetype": "text/x-python",
   "name": "python",
   "nbconvert_exporter": "python",
   "pygments_lexer": "ipython3",
   "version": "3.8.5"
  }
 },
 "nbformat": 4,
 "nbformat_minor": 4
}
