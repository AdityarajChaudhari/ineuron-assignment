{
 "cells": [
  {
   "cell_type": "code",
   "execution_count": null,
   "metadata": {},
   "outputs": [],
   "source": [
    "# 1. Write a Python program to check if the given number is a Disarium Number?\n",
    "\n",
    "num = int(input(\"Enter the number :- \"))\n",
    "#print(num)\n",
    "a = [int(x) for x in str(num)]\n",
    "#print(a)\n",
    "temp = 0\n",
    "for i in a:\n",
    "    val=i**(a.index(i)+1)\n",
    "    temp+=val\n",
    "print(temp)\n",
    "if temp == num :\n",
    "    print(\"The number is Disarium\")\n",
    "else:\n",
    "    print(\"The number is not disarium\")\n"
   ]
  },
  {
   "cell_type": "code",
   "execution_count": null,
   "metadata": {},
   "outputs": [],
   "source": [
    "#2. Write a Python program to print all disarium numbers between 1 to 100?\n",
    "\n",
    "for i in range(1,101):\n",
    "   # print(i)\n",
    "    a = [int(x) for x in str(i)]\n",
    "    #print(a)\n",
    "    temp = 0\n",
    "    for j in a:\n",
    "        val = j ** (a.index(j)+1)\n",
    "        temp += val\n",
    "    \n",
    "    if temp == i:\n",
    "        print(temp)"
   ]
  },
  {
   "cell_type": "code",
   "execution_count": null,
   "metadata": {},
   "outputs": [],
   "source": [
    "# 3. Write a Python program to check if the given number is Happy Number?\n",
    "\n",
    "def isHappy(num):    \n",
    "    a = b = 0;    \n",
    "    while(num > 0):    \n",
    "        a = num%10    \n",
    "        b += a**2  \n",
    "        num //= 10    \n",
    "    return b  \n",
    "        \n",
    "num = int(input())    \n",
    "output = num    \n",
    "     \n",
    "while(output != 1 and output != 4):    \n",
    "    output = isHappy(output)    \n",
    "     \n",
    "if(output == 1):    \n",
    "    print(f\"{str(num)} is a happy number\")\n",
    "\n",
    "else:\n",
    "    print(f\"{str(num)} is not a happy number)"
   ]
  },
  {
   "cell_type": "code",
   "execution_count": null,
   "metadata": {},
   "outputs": [],
   "source": [
    "# 4. Write a Python program to print all happy numbers between 1 and 100?\n",
    "\n",
    "def isHappy(num):    \n",
    "    a = b = 0;    \n",
    "    while(num > 0):    \n",
    "        a = num%10    \n",
    "        b += a**2  \n",
    "        num //= 10    \n",
    "    return b  \n",
    "\n",
    "for i in range(1,101):\n",
    "    no = i\n",
    "    \n",
    "    while (no != 1 and no != 4):\n",
    "        no = isHappy(no)\n",
    "        \n",
    "    if no == 1:\n",
    "        print(i)"
   ]
  },
  {
   "cell_type": "code",
   "execution_count": null,
   "metadata": {},
   "outputs": [],
   "source": [
    "#5. Write a Python program to determine whether the given number is a Harshad Number?\n",
    "\n",
    "num = int(input(\"Enter the number :- \"))\n",
    "a = [int(i) for i in str(num)]\n",
    "#print(a)\n",
    "val = 0\n",
    "for j in a:\n",
    "    val += j\n",
    "if num % val == 0 :\n",
    "    print(\"Number is Harshad Number\")\n",
    "else:\n",
    "    print(\"Number is not a harshad number\")"
   ]
  },
  {
   "cell_type": "code",
   "execution_count": null,
   "metadata": {},
   "outputs": [],
   "source": [
    "#6. Write a Python program to print all pronic numbers between 1 and 100?\n",
    "\n",
    "print(\"pronic numbers between 1 to 100 are :- \")\n",
    "for i in range(1,101):\n",
    "    for j in range(1,101):\n",
    "        if j*(j+1) == i:\n",
    "            print(i)"
   ]
  }
 ],
 "metadata": {
  "kernelspec": {
   "display_name": "Python 3",
   "language": "python",
   "name": "python3"
  },
  "language_info": {
   "codemirror_mode": {
    "name": "ipython",
    "version": 3
   },
   "file_extension": ".py",
   "mimetype": "text/x-python",
   "name": "python",
   "nbconvert_exporter": "python",
   "pygments_lexer": "ipython3",
   "version": "3.8.5"
  }
 },
 "nbformat": 4,
 "nbformat_minor": 4
}
