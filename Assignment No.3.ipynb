{
 "cells": [
  {
   "cell_type": "code",
   "execution_count": 54,
   "metadata": {},
   "outputs": [
    {
     "name": "stdout",
     "output_type": "stream",
     "text": [
      "Enter the Number :- -7\n",
      "The number is :-  -7\n",
      "-7 is a negative number\n"
     ]
    }
   ],
   "source": [
    "# 1. Write a Python Program to Check if a Number is Positive, Negative or Zero?\n",
    "\n",
    "num = int(input(\"Enter the Number :- \"))\n",
    "print(\"The number is :- \",num)\n",
    "if num == 0 :\n",
    "    print(f\"{num} is zero\")\n",
    "elif num < 0 :\n",
    "    print(f\"{num} is a negative number\")\n",
    "else :\n",
    "    print(f\"{num} is a positive number\")"
   ]
  },
  {
   "cell_type": "code",
   "execution_count": null,
   "metadata": {},
   "outputs": [],
   "source": [
    "# 2. Write a Python Program to Check if a Number is Odd or Even?\n",
    "\n",
    "num = int(input(\"Enter the Number :- \"))\n",
    "print(\"The number is :- \",num)\n",
    "if num % 2 == 0:\n",
    "    print(f\"{num} is an even number\")\n",
    "else:\n",
    "    print(f\"{num} is a odd number\")\n",
    "    "
   ]
  },
  {
   "cell_type": "code",
   "execution_count": null,
   "metadata": {},
   "outputs": [],
   "source": [
    "# 3. Write a Python Program to Check Leap Year?\n",
    "\n",
    "year = int(input(\"Enter the Year :- \"))\n",
    "print(\"The Year is :- \",year)\n",
    "if (year % 4 == 0) and ((year % 400 == 0) or (year % 100 != 0)) :\n",
    "    print(f\"{year} is a leap year\")\n",
    "else:\n",
    "    print(f\"{year} is not a leap year\")\n"
   ]
  },
  {
   "cell_type": "code",
   "execution_count": null,
   "metadata": {},
   "outputs": [],
   "source": [
    "# 4. Write a Python Program to Check Prime Number?\n",
    "\n",
    "num = int(input(\"Enter the number :- \"))\n",
    "print(\"The number is :- \",num)\n",
    "if num > 1 :\n",
    "    for i in range(2,num):\n",
    "        if num%i == 0:\n",
    "            print(\"Consonant\")\n",
    "            break\n",
    "    else:\n",
    "        print(\"Prime\")\n",
    "            \n",
    "else:\n",
    "    print(\"Consonant\")"
   ]
  },
  {
   "cell_type": "code",
   "execution_count": null,
   "metadata": {},
   "outputs": [],
   "source": [
    "# 5. Write a Python Program to Print all Prime Numbers in an Interval of 1-10000?\n",
    "\n",
    "for i in range (1,10001):\n",
    "    if i > 1 :                               # 1 is neither prime nor consonant\n",
    "        for x in range (2,i):\n",
    "            if i%x == 0:\n",
    "                break\n",
    "        else:\n",
    "            print(i)\n"
   ]
  }
 ],
 "metadata": {
  "kernelspec": {
   "display_name": "Python 3",
   "language": "python",
   "name": "python3"
  },
  "language_info": {
   "codemirror_mode": {
    "name": "ipython",
    "version": 3
   },
   "file_extension": ".py",
   "mimetype": "text/x-python",
   "name": "python",
   "nbconvert_exporter": "python",
   "pygments_lexer": "ipython3",
   "version": "3.8.3"
  }
 },
 "nbformat": 4,
 "nbformat_minor": 4
}
