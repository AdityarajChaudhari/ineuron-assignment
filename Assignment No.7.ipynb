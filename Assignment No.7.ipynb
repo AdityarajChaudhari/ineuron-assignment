{
 "cells": [
  {
   "cell_type": "code",
   "execution_count": 1,
   "metadata": {},
   "outputs": [],
   "source": [
    "# 1. Write a Python Program to find sum of array?\n",
    "\n",
    "arr = [4,5,34,56,78,23,99]\n",
    "print(\"The sum of all elements of array is :- \",sum(arr))"
   ]
  },
  {
   "cell_type": "code",
   "execution_count": 2,
   "metadata": {},
   "outputs": [],
   "source": [
    "# 2. Write a Python Program to find largest element in an array?\n",
    "\n",
    "import random\n",
    "arr2 = [i for i in random.sample(range(1,100),15)]\n",
    "print(arr2)\n",
    "print(\"The maximum element in the array is :- \",max(arr2))"
   ]
  },
  {
   "cell_type": "code",
   "execution_count": 3,
   "metadata": {},
   "outputs": [],
   "source": [
    "# 3. Write a Python Program for array rotation?\n",
    "\n",
    "import random\n",
    "arr3 = [i for i in random.sample(range(1,100),15)]\n",
    "print(\"The array is :- \")\n",
    "print(arr3)\n",
    "print(\"Rotated array is :- \")\n",
    "arr3.reverse()\n",
    "print(arr3)"
   ]
  },
  {
   "cell_type": "code",
   "execution_count": null,
   "metadata": {},
   "outputs": [],
   "source": [
    "# 4. Write a Python Program to Split the array and add the first part to the end?\n",
    "\n",
    "import random\n",
    "arr4 = [i for i in random.sample(range(1,100),15)]\n",
    "print(\"The array is :- \")\n",
    "print(arr4)\n",
    "print(\"Splitting the array :- \")\n",
    "n_split = int(input(\"Enter the number of elements to split:- \"))\n",
    "arr_split = arr4[:n_split]\n",
    "print(\"The splitted part is:-\")\n",
    "print(arr_split)\n",
    "del arr4[:n_split]\n",
    "arr4.extend(arr_split)\n",
    "print(\"Adding the splitted part to the end :- \")\n",
    "print(arr4)"
   ]
  },
  {
   "cell_type": "code",
   "execution_count": null,
   "metadata": {},
   "outputs": [],
   "source": [
    "# 5. Write a Python Program to check if given array is Monotonic?\n",
    "\n",
    "def is_monotonic(arr):\n",
    "    return (all(arr[i]>=arr[i+1] for i in range(len(arr)-1)) or all(arr[i]<=arr[i+1] for i in range(len(arr)-1)))\n",
    "no = int(input(\"Enter the number of elements to print in array :- \"))\n",
    "array = []\n",
    "for i in range(no):\n",
    "    i = int(input(\"Enter the number :- \"))\n",
    "    array.append(i)\n",
    "print(array)    \n",
    "if is_monotonic(array)==True:\n",
    "    print(\"Array is monotonic\")\n",
    "else:\n",
    "    print(\"Array is not monotonic\")"
   ]
  },
  {
   "cell_type": "code",
   "execution_count": null,
   "metadata": {},
   "outputs": [],
   "source": []
  }
 ],
 "metadata": {
  "kernelspec": {
   "display_name": "Python 3",
   "language": "python",
   "name": "python3"
  },
  "language_info": {
   "codemirror_mode": {
    "name": "ipython",
    "version": 3
   },
   "file_extension": ".py",
   "mimetype": "text/x-python",
   "name": "python",
   "nbconvert_exporter": "python",
   "pygments_lexer": "ipython3",
   "version": "3.8.5"
  }
 },
 "nbformat": 4,
 "nbformat_minor": 4
}
