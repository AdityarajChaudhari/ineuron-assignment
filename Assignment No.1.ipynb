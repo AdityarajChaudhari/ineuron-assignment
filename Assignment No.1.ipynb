{
 "cells": [
  {
   "cell_type": "code",
   "execution_count": 2,
   "metadata": {},
   "outputs": [
    {
     "name": "stdout",
     "output_type": "stream",
     "text": [
      "Hello Python\n"
     ]
    }
   ],
   "source": [
    "#  1 :-  Write a Python program to print Hello Python?\n",
    "\n",
    "print(\"Hello Python\")"
   ]
  },
  {
   "cell_type": "code",
   "execution_count": 3,
   "metadata": {},
   "outputs": [
    {
     "name": "stdout",
     "output_type": "stream",
     "text": [
      "Addition is :-  12\n",
      "Division is :-  5.0\n"
     ]
    }
   ],
   "source": [
    "#  2 :-  Write a Python program to do arithmetical operations addition and division.?\n",
    "\n",
    "a = 10\n",
    "b = 2\n",
    "addition = a + b\n",
    "division = a / b\n",
    "print(\"Addition is :- \",addition)\n",
    "print(\"Division is :- \",division)"
   ]
  },
  {
   "cell_type": "code",
   "execution_count": 4,
   "metadata": {},
   "outputs": [
    {
     "name": "stdout",
     "output_type": "stream",
     "text": [
      "Area of triangle is :-  90.0\n"
     ]
    }
   ],
   "source": [
    "#  3 :-  Write a Python program to find the area of a triangle?\n",
    "\n",
    "base = 10\n",
    "height = 18\n",
    "area = 0.5 * base * height\n",
    "print(\"Area of triangle is :- \",area)"
   ]
  },
  {
   "cell_type": "code",
   "execution_count": 5,
   "metadata": {},
   "outputs": [
    {
     "name": "stdout",
     "output_type": "stream",
     "text": [
      "Before Swapping------->\n",
      "The value of x is :-  25\n",
      "The value of y is :-  75\n",
      "After Swapping------->\n",
      "The value of x is :-  75\n",
      "The value of y is :-  25\n"
     ]
    }
   ],
   "source": [
    "#  4 :-  Write a Python program to swap two variables?\n",
    "\n",
    "x = 25\n",
    "y = 75\n",
    "print(\"Before Swapping------->\")\n",
    "print(\"The value of x is :- \",x)\n",
    "print(\"The value of y is :- \",y)\n",
    "x,y = y,x\n",
    "print(\"After Swapping------->\")\n",
    "print(\"The value of x is :- \",x)\n",
    "print(\"The value of y is :- \",y)"
   ]
  },
  {
   "cell_type": "code",
   "execution_count": 6,
   "metadata": {},
   "outputs": [
    {
     "name": "stdout",
     "output_type": "stream",
     "text": [
      "0.02500244740608626\n"
     ]
    }
   ],
   "source": [
    "#  5 :-  Write a Python program to generate a random number?\n",
    "\n",
    "import random\n",
    "print(random.random())"
   ]
  },
  {
   "cell_type": "code",
   "execution_count": null,
   "metadata": {},
   "outputs": [],
   "source": []
  }
 ],
 "metadata": {
  "kernelspec": {
   "display_name": "Python 3",
   "language": "python",
   "name": "python3"
  },
  "language_info": {
   "codemirror_mode": {
    "name": "ipython",
    "version": 3
   },
   "file_extension": ".py",
   "mimetype": "text/x-python",
   "name": "python",
   "nbconvert_exporter": "python",
   "pygments_lexer": "ipython3",
   "version": "3.8.3"
  }
 },
 "nbformat": 4,
 "nbformat_minor": 4
}
